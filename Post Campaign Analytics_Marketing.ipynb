{
 "cells": [
  {
   "cell_type": "markdown",
   "metadata": {},
   "source": [
    "### 1. Basic Pandas concepts\n",
    "\n",
    "This part below is to help you review Pandas"
   ]
  },
  {
   "cell_type": "code",
   "execution_count": 1,
   "metadata": {},
   "outputs": [],
   "source": [
    "import pandas as pd # pandas provides indexing structure and data manipulation functionality"
   ]
  },
  {
   "cell_type": "markdown",
   "metadata": {},
   "source": [
    "**Practice 1: use csv file -  'campaign.csv' to complate 1.1 and 1.2 by yourselves**"
   ]
  },
  {
   "cell_type": "markdown",
   "metadata": {},
   "source": [
    "#### 1.1 Reading data\n",
    "Remember that local python runs in memory. If you're on a Windows machine, you can open the task manager to the memory tab and then run the below section. You should see a big spike in your memory usage as the dataframe loads.\n",
    "\n",
    "We recommend your data be in csv format if you're working with pandas. The `read_csv` function makes it really easy to read in data. File name is the only required argument."
   ]
  },
  {
   "cell_type": "code",
   "execution_count": 2,
   "metadata": {},
   "outputs": [
    {
     "name": "stdout",
     "output_type": "stream",
     "text": [
      "          user_id date_served marketing_channel     test_control  converted  \\\n",
      "0      a100000029    1/1/2018         House Ads  personalization       True   \n",
      "1      a100000030    1/1/2018         House Ads  personalization       True   \n",
      "2      a100000031    1/1/2018         House Ads  personalization       True   \n",
      "3      a100000032    1/1/2018         House Ads  personalization       True   \n",
      "4      a100000033    1/1/2018         House Ads  personalization       True   \n",
      "...           ...         ...               ...              ...        ...   \n",
      "10017  a100007290   1/17/2018             Email          control       True   \n",
      "10018  a100007291   1/17/2018             Email          control       True   \n",
      "10019  a100007292    1/5/2018         Instagram          control      False   \n",
      "10020  a100007293   1/17/2018             Email          control       True   \n",
      "10021  a100007294    1/6/2018          Facebook          control      False   \n",
      "\n",
      "      language_preferred    age_group date_subscribed date_canceled  \\\n",
      "0                English   0-18 years        1/1/2018           NaN   \n",
      "1                English  19-24 years        1/1/2018           NaN   \n",
      "2                English  24-30 years        1/1/2018           NaN   \n",
      "3                English  30-36 years        1/1/2018           NaN   \n",
      "4                English  36-45 years        1/1/2018           NaN   \n",
      "...                  ...          ...             ...           ...   \n",
      "10017             German  45-55 years       1/17/2018     1/24/2018   \n",
      "10018             German    55+ years       1/17/2018           NaN   \n",
      "10019             German    55+ years       1/17/2018           NaN   \n",
      "10020             German   0-18 years       1/17/2018           NaN   \n",
      "10021             German   0-18 years       1/17/2018           NaN   \n",
      "\n",
      "      is_retained  \n",
      "0            True  \n",
      "1            True  \n",
      "2            True  \n",
      "3            True  \n",
      "4            True  \n",
      "...           ...  \n",
      "10017       False  \n",
      "10018        True  \n",
      "10019        True  \n",
      "10020        True  \n",
      "10021        True  \n",
      "\n",
      "[10022 rows x 10 columns]\n"
     ]
    }
   ],
   "source": [
    "data = pd.read_csv(\"campaign.csv\")\n",
    "print(data)"
   ]
  },
  {
   "cell_type": "code",
   "execution_count": null,
   "metadata": {},
   "outputs": [],
   "source": []
  },
  {
   "cell_type": "markdown",
   "metadata": {},
   "source": [
    "#### 1.2 Examine the data\n",
    "\n",
    "`.shape` is an *attribute* of a DataFrame object. This means it's a built-it in characteristic automatically available for all DataFrames.\n",
    "\n",
    "Specifically, `.shape` shows the dimensions of the df as rows, columns. In python, rows are axis=0 and columns are axis=1."
   ]
  },
  {
   "cell_type": "code",
   "execution_count": 3,
   "metadata": {},
   "outputs": [
    {
     "data": {
      "text/plain": [
       "(10022, 10)"
      ]
     },
     "execution_count": 3,
     "metadata": {},
     "output_type": "execute_result"
    }
   ],
   "source": [
    "data.shape  # 10022 rows, 10 columns"
   ]
  },
  {
   "cell_type": "markdown",
   "metadata": {},
   "source": [
    "`.columns` shows the names of the columns in your dataframe.\n",
    "You can tell *attributes* and *methods* apart because the latter requires `()`.\n",
    "\n",
    "*Note:* .columns returns an index object, which does not have great formatting when displayed. Lists have better default formatting. As the name implies, `tolist()` converts the `columns` result to a list."
   ]
  },
  {
   "cell_type": "code",
   "execution_count": 4,
   "metadata": {
    "scrolled": true
   },
   "outputs": [
    {
     "data": {
      "text/plain": [
       "['user_id',\n",
       " 'date_served',\n",
       " 'marketing_channel',\n",
       " 'test_control',\n",
       " 'converted',\n",
       " 'language_preferred',\n",
       " 'age_group',\n",
       " 'date_subscribed',\n",
       " 'date_canceled',\n",
       " 'is_retained']"
      ]
     },
     "execution_count": 4,
     "metadata": {},
     "output_type": "execute_result"
    }
   ],
   "source": [
    "index = data.columns\n",
    "index.tolist()"
   ]
  },
  {
   "cell_type": "markdown",
   "metadata": {},
   "source": [
    "`.head(n)` shows the first n rows of the dataframe. If you omit n, it will return the first 5 rows.\n",
    "\n",
    "By default, ipython notebook shows 60 rows and 20 columns when you preview a pandas dataframe. To modify this default, use `pd.set_option()`, e.g. `pd.set_option(\"display.max_rows\",100)` or `pd.set_option(\"display.max_columns\",100)`"
   ]
  },
  {
   "cell_type": "code",
   "execution_count": 5,
   "metadata": {},
   "outputs": [
    {
     "data": {
      "text/html": [
       "<div>\n",
       "<style scoped>\n",
       "    .dataframe tbody tr th:only-of-type {\n",
       "        vertical-align: middle;\n",
       "    }\n",
       "\n",
       "    .dataframe tbody tr th {\n",
       "        vertical-align: top;\n",
       "    }\n",
       "\n",
       "    .dataframe thead th {\n",
       "        text-align: right;\n",
       "    }\n",
       "</style>\n",
       "<table border=\"1\" class=\"dataframe\">\n",
       "  <thead>\n",
       "    <tr style=\"text-align: right;\">\n",
       "      <th></th>\n",
       "      <th>user_id</th>\n",
       "      <th>date_served</th>\n",
       "      <th>marketing_channel</th>\n",
       "      <th>test_control</th>\n",
       "      <th>converted</th>\n",
       "      <th>language_preferred</th>\n",
       "      <th>age_group</th>\n",
       "      <th>date_subscribed</th>\n",
       "      <th>date_canceled</th>\n",
       "      <th>is_retained</th>\n",
       "    </tr>\n",
       "  </thead>\n",
       "  <tbody>\n",
       "    <tr>\n",
       "      <th>0</th>\n",
       "      <td>a100000029</td>\n",
       "      <td>1/1/2018</td>\n",
       "      <td>House Ads</td>\n",
       "      <td>personalization</td>\n",
       "      <td>True</td>\n",
       "      <td>English</td>\n",
       "      <td>0-18 years</td>\n",
       "      <td>1/1/2018</td>\n",
       "      <td>NaN</td>\n",
       "      <td>True</td>\n",
       "    </tr>\n",
       "    <tr>\n",
       "      <th>1</th>\n",
       "      <td>a100000030</td>\n",
       "      <td>1/1/2018</td>\n",
       "      <td>House Ads</td>\n",
       "      <td>personalization</td>\n",
       "      <td>True</td>\n",
       "      <td>English</td>\n",
       "      <td>19-24 years</td>\n",
       "      <td>1/1/2018</td>\n",
       "      <td>NaN</td>\n",
       "      <td>True</td>\n",
       "    </tr>\n",
       "    <tr>\n",
       "      <th>2</th>\n",
       "      <td>a100000031</td>\n",
       "      <td>1/1/2018</td>\n",
       "      <td>House Ads</td>\n",
       "      <td>personalization</td>\n",
       "      <td>True</td>\n",
       "      <td>English</td>\n",
       "      <td>24-30 years</td>\n",
       "      <td>1/1/2018</td>\n",
       "      <td>NaN</td>\n",
       "      <td>True</td>\n",
       "    </tr>\n",
       "    <tr>\n",
       "      <th>3</th>\n",
       "      <td>a100000032</td>\n",
       "      <td>1/1/2018</td>\n",
       "      <td>House Ads</td>\n",
       "      <td>personalization</td>\n",
       "      <td>True</td>\n",
       "      <td>English</td>\n",
       "      <td>30-36 years</td>\n",
       "      <td>1/1/2018</td>\n",
       "      <td>NaN</td>\n",
       "      <td>True</td>\n",
       "    </tr>\n",
       "    <tr>\n",
       "      <th>4</th>\n",
       "      <td>a100000033</td>\n",
       "      <td>1/1/2018</td>\n",
       "      <td>House Ads</td>\n",
       "      <td>personalization</td>\n",
       "      <td>True</td>\n",
       "      <td>English</td>\n",
       "      <td>36-45 years</td>\n",
       "      <td>1/1/2018</td>\n",
       "      <td>NaN</td>\n",
       "      <td>True</td>\n",
       "    </tr>\n",
       "    <tr>\n",
       "      <th>5</th>\n",
       "      <td>a100000034</td>\n",
       "      <td>1/1/2018</td>\n",
       "      <td>House Ads</td>\n",
       "      <td>personalization</td>\n",
       "      <td>True</td>\n",
       "      <td>German</td>\n",
       "      <td>45-55 years</td>\n",
       "      <td>1/1/2018</td>\n",
       "      <td>NaN</td>\n",
       "      <td>True</td>\n",
       "    </tr>\n",
       "  </tbody>\n",
       "</table>\n",
       "</div>"
      ],
      "text/plain": [
       "      user_id date_served marketing_channel     test_control  converted  \\\n",
       "0  a100000029    1/1/2018         House Ads  personalization       True   \n",
       "1  a100000030    1/1/2018         House Ads  personalization       True   \n",
       "2  a100000031    1/1/2018         House Ads  personalization       True   \n",
       "3  a100000032    1/1/2018         House Ads  personalization       True   \n",
       "4  a100000033    1/1/2018         House Ads  personalization       True   \n",
       "5  a100000034    1/1/2018         House Ads  personalization       True   \n",
       "\n",
       "  language_preferred    age_group date_subscribed date_canceled is_retained  \n",
       "0            English   0-18 years        1/1/2018           NaN        True  \n",
       "1            English  19-24 years        1/1/2018           NaN        True  \n",
       "2            English  24-30 years        1/1/2018           NaN        True  \n",
       "3            English  30-36 years        1/1/2018           NaN        True  \n",
       "4            English  36-45 years        1/1/2018           NaN        True  \n",
       "5             German  45-55 years        1/1/2018           NaN        True  "
      ]
     },
     "execution_count": 5,
     "metadata": {},
     "output_type": "execute_result"
    }
   ],
   "source": [
    "data.head(6)"
   ]
  },
  {
   "cell_type": "code",
   "execution_count": 6,
   "metadata": {},
   "outputs": [
    {
     "data": {
      "text/html": [
       "<div>\n",
       "<style scoped>\n",
       "    .dataframe tbody tr th:only-of-type {\n",
       "        vertical-align: middle;\n",
       "    }\n",
       "\n",
       "    .dataframe tbody tr th {\n",
       "        vertical-align: top;\n",
       "    }\n",
       "\n",
       "    .dataframe thead th {\n",
       "        text-align: right;\n",
       "    }\n",
       "</style>\n",
       "<table border=\"1\" class=\"dataframe\">\n",
       "  <thead>\n",
       "    <tr style=\"text-align: right;\">\n",
       "      <th></th>\n",
       "      <th>user_id</th>\n",
       "      <th>date_served</th>\n",
       "      <th>marketing_channel</th>\n",
       "      <th>test_control</th>\n",
       "      <th>converted</th>\n",
       "      <th>language_preferred</th>\n",
       "      <th>age_group</th>\n",
       "      <th>date_subscribed</th>\n",
       "      <th>date_canceled</th>\n",
       "      <th>is_retained</th>\n",
       "    </tr>\n",
       "  </thead>\n",
       "  <tbody>\n",
       "    <tr>\n",
       "      <th>count</th>\n",
       "      <td>10022</td>\n",
       "      <td>10021</td>\n",
       "      <td>10022</td>\n",
       "      <td>10022</td>\n",
       "      <td>10022</td>\n",
       "      <td>10022</td>\n",
       "      <td>10022</td>\n",
       "      <td>1856</td>\n",
       "      <td>577</td>\n",
       "      <td>1856</td>\n",
       "    </tr>\n",
       "    <tr>\n",
       "      <th>unique</th>\n",
       "      <td>7294</td>\n",
       "      <td>31</td>\n",
       "      <td>5</td>\n",
       "      <td>2</td>\n",
       "      <td>2</td>\n",
       "      <td>4</td>\n",
       "      <td>7</td>\n",
       "      <td>31</td>\n",
       "      <td>115</td>\n",
       "      <td>2</td>\n",
       "    </tr>\n",
       "    <tr>\n",
       "      <th>top</th>\n",
       "      <td>a100000882</td>\n",
       "      <td>1/15/2018</td>\n",
       "      <td>House Ads</td>\n",
       "      <td>control</td>\n",
       "      <td>False</td>\n",
       "      <td>English</td>\n",
       "      <td>19-24 years</td>\n",
       "      <td>1/16/2018</td>\n",
       "      <td>4/2/2018</td>\n",
       "      <td>True</td>\n",
       "    </tr>\n",
       "    <tr>\n",
       "      <th>freq</th>\n",
       "      <td>12</td>\n",
       "      <td>789</td>\n",
       "      <td>4733</td>\n",
       "      <td>5076</td>\n",
       "      <td>8946</td>\n",
       "      <td>9260</td>\n",
       "      <td>1679</td>\n",
       "      <td>163</td>\n",
       "      <td>15</td>\n",
       "      <td>1279</td>\n",
       "    </tr>\n",
       "  </tbody>\n",
       "</table>\n",
       "</div>"
      ],
      "text/plain": [
       "           user_id date_served marketing_channel test_control converted  \\\n",
       "count        10022       10021             10022        10022     10022   \n",
       "unique        7294          31                 5            2         2   \n",
       "top     a100000882   1/15/2018         House Ads      control     False   \n",
       "freq            12         789              4733         5076      8946   \n",
       "\n",
       "       language_preferred    age_group date_subscribed date_canceled  \\\n",
       "count               10022        10022            1856           577   \n",
       "unique                  4            7              31           115   \n",
       "top               English  19-24 years       1/16/2018      4/2/2018   \n",
       "freq                 9260         1679             163            15   \n",
       "\n",
       "       is_retained  \n",
       "count         1856  \n",
       "unique           2  \n",
       "top           True  \n",
       "freq          1279  "
      ]
     },
     "execution_count": 6,
     "metadata": {},
     "output_type": "execute_result"
    }
   ],
   "source": [
    "# look at the data\n",
    "data.describe()"
   ]
  },
  {
   "cell_type": "markdown",
   "metadata": {},
   "source": [
    "`.describe()` provides summary statistics for both numeric and non-numeric data."
   ]
  },
  {
   "cell_type": "code",
   "execution_count": 7,
   "metadata": {
    "scrolled": true
   },
   "outputs": [
    {
     "name": "stdout",
     "output_type": "stream",
     "text": [
      "<class 'pandas.core.frame.DataFrame'>\n",
      "RangeIndex: 10022 entries, 0 to 10021\n",
      "Data columns (total 10 columns):\n",
      " #   Column              Non-Null Count  Dtype \n",
      "---  ------              --------------  ----- \n",
      " 0   user_id             10022 non-null  object\n",
      " 1   date_served         10021 non-null  object\n",
      " 2   marketing_channel   10022 non-null  object\n",
      " 3   test_control        10022 non-null  object\n",
      " 4   converted           10022 non-null  bool  \n",
      " 5   language_preferred  10022 non-null  object\n",
      " 6   age_group           10022 non-null  object\n",
      " 7   date_subscribed     1856 non-null   object\n",
      " 8   date_canceled       577 non-null    object\n",
      " 9   is_retained         1856 non-null   object\n",
      "dtypes: bool(1), object(9)\n",
      "memory usage: 714.6+ KB\n"
     ]
    }
   ],
   "source": [
    "# look at the summary info\n",
    "data.info()"
   ]
  },
  {
   "cell_type": "code",
   "execution_count": null,
   "metadata": {},
   "outputs": [],
   "source": []
  },
  {
   "cell_type": "markdown",
   "metadata": {},
   "source": [
    " **Use square brackets to select Dataframes**\n",
    " - single bracket give a Pandas Series\n",
    " - double bracket give a Pandas Dataframe"
   ]
  },
  {
   "cell_type": "code",
   "execution_count": 8,
   "metadata": {},
   "outputs": [
    {
     "data": {
      "text/plain": [
       "0         0-18 years\n",
       "1        19-24 years\n",
       "2        24-30 years\n",
       "3        30-36 years\n",
       "4        36-45 years\n",
       "            ...     \n",
       "10017    45-55 years\n",
       "10018      55+ years\n",
       "10019      55+ years\n",
       "10020     0-18 years\n",
       "10021     0-18 years\n",
       "Name: age_group, Length: 10022, dtype: object"
      ]
     },
     "execution_count": 8,
     "metadata": {},
     "output_type": "execute_result"
    }
   ],
   "source": [
    "data[\"age_group\"]"
   ]
  },
  {
   "cell_type": "code",
   "execution_count": 9,
   "metadata": {},
   "outputs": [
    {
     "data": {
      "text/html": [
       "<div>\n",
       "<style scoped>\n",
       "    .dataframe tbody tr th:only-of-type {\n",
       "        vertical-align: middle;\n",
       "    }\n",
       "\n",
       "    .dataframe tbody tr th {\n",
       "        vertical-align: top;\n",
       "    }\n",
       "\n",
       "    .dataframe thead th {\n",
       "        text-align: right;\n",
       "    }\n",
       "</style>\n",
       "<table border=\"1\" class=\"dataframe\">\n",
       "  <thead>\n",
       "    <tr style=\"text-align: right;\">\n",
       "      <th></th>\n",
       "      <th>age_group</th>\n",
       "    </tr>\n",
       "  </thead>\n",
       "  <tbody>\n",
       "    <tr>\n",
       "      <th>0</th>\n",
       "      <td>0-18 years</td>\n",
       "    </tr>\n",
       "    <tr>\n",
       "      <th>1</th>\n",
       "      <td>19-24 years</td>\n",
       "    </tr>\n",
       "    <tr>\n",
       "      <th>2</th>\n",
       "      <td>24-30 years</td>\n",
       "    </tr>\n",
       "    <tr>\n",
       "      <th>3</th>\n",
       "      <td>30-36 years</td>\n",
       "    </tr>\n",
       "    <tr>\n",
       "      <th>4</th>\n",
       "      <td>36-45 years</td>\n",
       "    </tr>\n",
       "    <tr>\n",
       "      <th>...</th>\n",
       "      <td>...</td>\n",
       "    </tr>\n",
       "    <tr>\n",
       "      <th>10017</th>\n",
       "      <td>45-55 years</td>\n",
       "    </tr>\n",
       "    <tr>\n",
       "      <th>10018</th>\n",
       "      <td>55+ years</td>\n",
       "    </tr>\n",
       "    <tr>\n",
       "      <th>10019</th>\n",
       "      <td>55+ years</td>\n",
       "    </tr>\n",
       "    <tr>\n",
       "      <th>10020</th>\n",
       "      <td>0-18 years</td>\n",
       "    </tr>\n",
       "    <tr>\n",
       "      <th>10021</th>\n",
       "      <td>0-18 years</td>\n",
       "    </tr>\n",
       "  </tbody>\n",
       "</table>\n",
       "<p>10022 rows × 1 columns</p>\n",
       "</div>"
      ],
      "text/plain": [
       "         age_group\n",
       "0       0-18 years\n",
       "1      19-24 years\n",
       "2      24-30 years\n",
       "3      30-36 years\n",
       "4      36-45 years\n",
       "...            ...\n",
       "10017  45-55 years\n",
       "10018    55+ years\n",
       "10019    55+ years\n",
       "10020   0-18 years\n",
       "10021   0-18 years\n",
       "\n",
       "[10022 rows x 1 columns]"
      ]
     },
     "execution_count": 9,
     "metadata": {},
     "output_type": "execute_result"
    }
   ],
   "source": [
    "data[[\"age_group\"]]"
   ]
  },
  {
   "cell_type": "markdown",
   "metadata": {},
   "source": [
    "Check **duplicate** records for primary key column\n",
    "- think about why duplicates could happen?"
   ]
  },
  {
   "cell_type": "code",
   "execution_count": 10,
   "metadata": {},
   "outputs": [
    {
     "data": {
      "text/plain": [
       "10022"
      ]
     },
     "execution_count": 10,
     "metadata": {},
     "output_type": "execute_result"
    }
   ],
   "source": [
    "len(data[\"user_id\"])   ### important to check duplicates"
   ]
  },
  {
   "cell_type": "code",
   "execution_count": 11,
   "metadata": {},
   "outputs": [
    {
     "data": {
      "text/plain": [
       "7294"
      ]
     },
     "execution_count": 11,
     "metadata": {},
     "output_type": "execute_result"
    }
   ],
   "source": [
    "len(data[\"user_id\"].unique())    "
   ]
  },
  {
   "cell_type": "code",
   "execution_count": null,
   "metadata": {},
   "outputs": [],
   "source": []
  },
  {
   "cell_type": "code",
   "execution_count": null,
   "metadata": {
    "scrolled": true
   },
   "outputs": [],
   "source": []
  },
  {
   "cell_type": "markdown",
   "metadata": {},
   "source": [
    "Use **DataFrame.nunique** to count distinct observations over requested axis (default is 0 for row-wise)"
   ]
  },
  {
   "cell_type": "code",
   "execution_count": 12,
   "metadata": {},
   "outputs": [
    {
     "data": {
      "text/plain": [
       "7"
      ]
     },
     "execution_count": 12,
     "metadata": {},
     "output_type": "execute_result"
    }
   ],
   "source": [
    "data[\"age_group\"].nunique(0)\n",
    "#f unction to find number of the unique values across the row/column axis.\n",
    "# axis =1 across colums; axis = 0 across rows"
   ]
  },
  {
   "cell_type": "markdown",
   "metadata": {},
   "source": [
    "For categorical fields or numeric fields with a small number of values, you can use `value_counts()` to see unique values and their frequency. "
   ]
  },
  {
   "cell_type": "code",
   "execution_count": 13,
   "metadata": {},
   "outputs": [
    {
     "data": {
      "text/plain": [
       "19-24 years    1679\n",
       "24-30 years    1566\n",
       "0-18 years     1537\n",
       "30-36 years    1353\n",
       "36-45 years    1351\n",
       "45-55 years    1351\n",
       "55+ years      1185\n",
       "Name: age_group, dtype: int64"
      ]
     },
     "execution_count": 13,
     "metadata": {},
     "output_type": "execute_result"
    }
   ],
   "source": [
    "data[\"age_group\"].value_counts()"
   ]
  },
  {
   "cell_type": "markdown",
   "metadata": {},
   "source": [
    "If you don't care about the frequency and just want an easily readable list of the values from a categorical field, use .unique()"
   ]
  },
  {
   "cell_type": "code",
   "execution_count": 14,
   "metadata": {},
   "outputs": [
    {
     "data": {
      "text/plain": [
       "array(['English', 'German', 'Arabic', 'Spanish'], dtype=object)"
      ]
     },
     "execution_count": 14,
     "metadata": {},
     "output_type": "execute_result"
    }
   ],
   "source": [
    "data[\"language_preferred\"].unique()"
   ]
  },
  {
   "cell_type": "code",
   "execution_count": 15,
   "metadata": {},
   "outputs": [
    {
     "data": {
      "text/plain": [
       "0        False\n",
       "1        False\n",
       "2        False\n",
       "3        False\n",
       "4        False\n",
       "         ...  \n",
       "10017    False\n",
       "10018    False\n",
       "10019    False\n",
       "10020    False\n",
       "10021    False\n",
       "Name: language_preferred, Length: 10022, dtype: bool"
      ]
     },
     "execution_count": 15,
     "metadata": {},
     "output_type": "execute_result"
    }
   ],
   "source": [
    "data[\"language_preferred\"].isnull()"
   ]
  },
  {
   "cell_type": "markdown",
   "metadata": {},
   "source": [
    "`.isnull()` is a method that returns true if values are null.\n",
    "\n",
    "The code below:\n",
    "1. Creates a boolean dataframe with True for null values and False for non-null values\n",
    "2. Sums the number of True's by column (in python True=1 and False=0)"
   ]
  },
  {
   "cell_type": "code",
   "execution_count": 16,
   "metadata": {},
   "outputs": [
    {
     "data": {
      "text/html": [
       "<div>\n",
       "<style scoped>\n",
       "    .dataframe tbody tr th:only-of-type {\n",
       "        vertical-align: middle;\n",
       "    }\n",
       "\n",
       "    .dataframe tbody tr th {\n",
       "        vertical-align: top;\n",
       "    }\n",
       "\n",
       "    .dataframe thead th {\n",
       "        text-align: right;\n",
       "    }\n",
       "</style>\n",
       "<table border=\"1\" class=\"dataframe\">\n",
       "  <thead>\n",
       "    <tr style=\"text-align: right;\">\n",
       "      <th></th>\n",
       "      <th>user_id</th>\n",
       "      <th>date_served</th>\n",
       "      <th>marketing_channel</th>\n",
       "      <th>test_control</th>\n",
       "      <th>converted</th>\n",
       "      <th>language_preferred</th>\n",
       "      <th>age_group</th>\n",
       "      <th>date_subscribed</th>\n",
       "      <th>date_canceled</th>\n",
       "      <th>is_retained</th>\n",
       "    </tr>\n",
       "  </thead>\n",
       "  <tbody>\n",
       "    <tr>\n",
       "      <th>0</th>\n",
       "      <td>False</td>\n",
       "      <td>False</td>\n",
       "      <td>False</td>\n",
       "      <td>False</td>\n",
       "      <td>False</td>\n",
       "      <td>False</td>\n",
       "      <td>False</td>\n",
       "      <td>False</td>\n",
       "      <td>True</td>\n",
       "      <td>False</td>\n",
       "    </tr>\n",
       "    <tr>\n",
       "      <th>1</th>\n",
       "      <td>False</td>\n",
       "      <td>False</td>\n",
       "      <td>False</td>\n",
       "      <td>False</td>\n",
       "      <td>False</td>\n",
       "      <td>False</td>\n",
       "      <td>False</td>\n",
       "      <td>False</td>\n",
       "      <td>True</td>\n",
       "      <td>False</td>\n",
       "    </tr>\n",
       "    <tr>\n",
       "      <th>2</th>\n",
       "      <td>False</td>\n",
       "      <td>False</td>\n",
       "      <td>False</td>\n",
       "      <td>False</td>\n",
       "      <td>False</td>\n",
       "      <td>False</td>\n",
       "      <td>False</td>\n",
       "      <td>False</td>\n",
       "      <td>True</td>\n",
       "      <td>False</td>\n",
       "    </tr>\n",
       "    <tr>\n",
       "      <th>3</th>\n",
       "      <td>False</td>\n",
       "      <td>False</td>\n",
       "      <td>False</td>\n",
       "      <td>False</td>\n",
       "      <td>False</td>\n",
       "      <td>False</td>\n",
       "      <td>False</td>\n",
       "      <td>False</td>\n",
       "      <td>True</td>\n",
       "      <td>False</td>\n",
       "    </tr>\n",
       "    <tr>\n",
       "      <th>4</th>\n",
       "      <td>False</td>\n",
       "      <td>False</td>\n",
       "      <td>False</td>\n",
       "      <td>False</td>\n",
       "      <td>False</td>\n",
       "      <td>False</td>\n",
       "      <td>False</td>\n",
       "      <td>False</td>\n",
       "      <td>True</td>\n",
       "      <td>False</td>\n",
       "    </tr>\n",
       "    <tr>\n",
       "      <th>...</th>\n",
       "      <td>...</td>\n",
       "      <td>...</td>\n",
       "      <td>...</td>\n",
       "      <td>...</td>\n",
       "      <td>...</td>\n",
       "      <td>...</td>\n",
       "      <td>...</td>\n",
       "      <td>...</td>\n",
       "      <td>...</td>\n",
       "      <td>...</td>\n",
       "    </tr>\n",
       "    <tr>\n",
       "      <th>10017</th>\n",
       "      <td>False</td>\n",
       "      <td>False</td>\n",
       "      <td>False</td>\n",
       "      <td>False</td>\n",
       "      <td>False</td>\n",
       "      <td>False</td>\n",
       "      <td>False</td>\n",
       "      <td>False</td>\n",
       "      <td>False</td>\n",
       "      <td>False</td>\n",
       "    </tr>\n",
       "    <tr>\n",
       "      <th>10018</th>\n",
       "      <td>False</td>\n",
       "      <td>False</td>\n",
       "      <td>False</td>\n",
       "      <td>False</td>\n",
       "      <td>False</td>\n",
       "      <td>False</td>\n",
       "      <td>False</td>\n",
       "      <td>False</td>\n",
       "      <td>True</td>\n",
       "      <td>False</td>\n",
       "    </tr>\n",
       "    <tr>\n",
       "      <th>10019</th>\n",
       "      <td>False</td>\n",
       "      <td>False</td>\n",
       "      <td>False</td>\n",
       "      <td>False</td>\n",
       "      <td>False</td>\n",
       "      <td>False</td>\n",
       "      <td>False</td>\n",
       "      <td>False</td>\n",
       "      <td>True</td>\n",
       "      <td>False</td>\n",
       "    </tr>\n",
       "    <tr>\n",
       "      <th>10020</th>\n",
       "      <td>False</td>\n",
       "      <td>False</td>\n",
       "      <td>False</td>\n",
       "      <td>False</td>\n",
       "      <td>False</td>\n",
       "      <td>False</td>\n",
       "      <td>False</td>\n",
       "      <td>False</td>\n",
       "      <td>True</td>\n",
       "      <td>False</td>\n",
       "    </tr>\n",
       "    <tr>\n",
       "      <th>10021</th>\n",
       "      <td>False</td>\n",
       "      <td>False</td>\n",
       "      <td>False</td>\n",
       "      <td>False</td>\n",
       "      <td>False</td>\n",
       "      <td>False</td>\n",
       "      <td>False</td>\n",
       "      <td>False</td>\n",
       "      <td>True</td>\n",
       "      <td>False</td>\n",
       "    </tr>\n",
       "  </tbody>\n",
       "</table>\n",
       "<p>10022 rows × 10 columns</p>\n",
       "</div>"
      ],
      "text/plain": [
       "       user_id  date_served  marketing_channel  test_control  converted  \\\n",
       "0        False        False              False         False      False   \n",
       "1        False        False              False         False      False   \n",
       "2        False        False              False         False      False   \n",
       "3        False        False              False         False      False   \n",
       "4        False        False              False         False      False   \n",
       "...        ...          ...                ...           ...        ...   \n",
       "10017    False        False              False         False      False   \n",
       "10018    False        False              False         False      False   \n",
       "10019    False        False              False         False      False   \n",
       "10020    False        False              False         False      False   \n",
       "10021    False        False              False         False      False   \n",
       "\n",
       "       language_preferred  age_group  date_subscribed  date_canceled  \\\n",
       "0                   False      False            False           True   \n",
       "1                   False      False            False           True   \n",
       "2                   False      False            False           True   \n",
       "3                   False      False            False           True   \n",
       "4                   False      False            False           True   \n",
       "...                   ...        ...              ...            ...   \n",
       "10017               False      False            False          False   \n",
       "10018               False      False            False           True   \n",
       "10019               False      False            False           True   \n",
       "10020               False      False            False           True   \n",
       "10021               False      False            False           True   \n",
       "\n",
       "       is_retained  \n",
       "0            False  \n",
       "1            False  \n",
       "2            False  \n",
       "3            False  \n",
       "4            False  \n",
       "...            ...  \n",
       "10017        False  \n",
       "10018        False  \n",
       "10019        False  \n",
       "10020        False  \n",
       "10021        False  \n",
       "\n",
       "[10022 rows x 10 columns]"
      ]
     },
     "execution_count": 16,
     "metadata": {},
     "output_type": "execute_result"
    }
   ],
   "source": [
    "data.isnull()\n"
   ]
  },
  {
   "cell_type": "markdown",
   "metadata": {},
   "source": [
    "**get the number of Missing records in each column:**"
   ]
  },
  {
   "cell_type": "code",
   "execution_count": 17,
   "metadata": {},
   "outputs": [
    {
     "data": {
      "text/plain": [
       "user_id                  0\n",
       "date_served              1\n",
       "marketing_channel        0\n",
       "test_control             0\n",
       "converted                0\n",
       "language_preferred       0\n",
       "age_group                0\n",
       "date_subscribed       8166\n",
       "date_canceled         9445\n",
       "is_retained           8166\n",
       "dtype: int64"
      ]
     },
     "execution_count": 17,
     "metadata": {},
     "output_type": "execute_result"
    }
   ],
   "source": [
    "data.isnull().sum()"
   ]
  },
  {
   "cell_type": "code",
   "execution_count": null,
   "metadata": {},
   "outputs": [],
   "source": []
  },
  {
   "cell_type": "code",
   "execution_count": null,
   "metadata": {},
   "outputs": [],
   "source": []
  },
  {
   "cell_type": "markdown",
   "metadata": {},
   "source": [
    "### 2. Campaign result overview"
   ]
  },
  {
   "cell_type": "markdown",
   "metadata": {},
   "source": [
    "**.Groupby**, similar to Group by in SQL, it lets you group data, which is very powerful for analysis. A few things to know:\n",
    "\n",
    ".groupby() returns a groupby object which then needs to be aggregated with count, sum, mean, median etc.\n",
    "By default, .groupby() turns the column you group on into the index for the grouped data\n",
    ".groupby() excludes missings!\n",
    "The format for .groupby() is dataframe.groupby(\"column to group on\")[\"column to summarize\"].summary_function(). Both the \"column to group on\" and the \"column to summarize\" arguments can take more than one column if you input them as a list.\n",
    "\n",
    "Some summary functions:\n",
    "\n",
    "sum(), mean(), median(), min(), count(), max()"
   ]
  },
  {
   "cell_type": "markdown",
   "metadata": {},
   "source": [
    "#### 2.1 How many users receive marketing offers by day?"
   ]
  },
  {
   "cell_type": "code",
   "execution_count": 18,
   "metadata": {},
   "outputs": [],
   "source": [
    "#Group by date_served\n",
    "daily_users = data.groupby(['date_served'])['user_id'].nunique() \n",
    "#to count how many dsitinct users recieved offers everyday"
   ]
  },
  {
   "cell_type": "code",
   "execution_count": 19,
   "metadata": {},
   "outputs": [],
   "source": [
    "# select date_served, count(distinct user_id) from \n",
    "# data group by date_served;"
   ]
  },
  {
   "cell_type": "code",
   "execution_count": 20,
   "metadata": {},
   "outputs": [
    {
     "name": "stdout",
     "output_type": "stream",
     "text": [
      "date_served\n",
      "1/1/2018     362\n",
      "1/10/2018    337\n",
      "1/11/2018    310\n",
      "1/12/2018    301\n",
      "1/13/2018    306\n",
      "1/14/2018    305\n",
      "1/15/2018    767\n",
      "1/16/2018    388\n",
      "1/17/2018    369\n",
      "1/18/2018    318\n",
      "1/19/2018    305\n",
      "1/2/2018     374\n",
      "1/20/2018    311\n",
      "1/21/2018    229\n",
      "1/22/2018    178\n",
      "1/23/2018    172\n",
      "1/24/2018    190\n",
      "1/25/2018    184\n",
      "1/26/2018    222\n",
      "1/27/2018    320\n",
      "1/28/2018    320\n",
      "1/29/2018    319\n",
      "1/3/2018     348\n",
      "1/30/2018    317\n",
      "1/31/2018    340\n",
      "1/4/2018     323\n",
      "1/5/2018     319\n",
      "1/6/2018     308\n",
      "1/7/2018     275\n",
      "1/8/2018     312\n",
      "1/9/2018     312\n",
      "Name: user_id, dtype: int64\n"
     ]
    }
   ],
   "source": [
    "print(daily_users)"
   ]
  },
  {
   "cell_type": "markdown",
   "metadata": {},
   "source": [
    "DataFrame.nunique(): Count distinct observations over requested axis.  "
   ]
  },
  {
   "cell_type": "markdown",
   "metadata": {},
   "source": [
    "Visualization in Python"
   ]
  },
  {
   "cell_type": "code",
   "execution_count": 21,
   "metadata": {},
   "outputs": [
    {
     "data": {
      "text/plain": [
       "pandas.core.series.Series"
      ]
     },
     "execution_count": 21,
     "metadata": {},
     "output_type": "execute_result"
    }
   ],
   "source": [
    "type(daily_users)"
   ]
  },
  {
   "cell_type": "code",
   "execution_count": 22,
   "metadata": {
    "scrolled": true
   },
   "outputs": [
    {
     "data": {
      "image/png": "[encoded data removed]",
      "text/plain": [
       "<Figure size 432x288 with 1 Axes>"
      ]
     },
     "metadata": {
      "needs_background": "light"
     },
     "output_type": "display_data"
    }
   ],
   "source": [
    "import matplotlib.pyplot as plt\n",
    "\n",
    "# plot\n",
    "daily_users.plot()\n",
    "\n",
    "# annotate\n",
    "plt.title('daily number of users seeing the ads')\n",
    "plt.xlabel('Date')\n",
    "plt.ylabel('Number of users')\n",
    "plt.show()"
   ]
  },
  {
   "cell_type": "markdown",
   "metadata": {},
   "source": [
    "**Question:** Waht is the issue with the chart above?"
   ]
  },
  {
   "cell_type": "code",
   "execution_count": 23,
   "metadata": {},
   "outputs": [
    {
     "data": {
      "text/plain": [
       "0       2018-01-01\n",
       "1       2018-01-01\n",
       "2       2018-01-01\n",
       "3       2018-01-01\n",
       "4       2018-01-01\n",
       "           ...    \n",
       "10017   2018-01-17\n",
       "10018   2018-01-17\n",
       "10019   2018-01-05\n",
       "10020   2018-01-17\n",
       "10021   2018-01-06\n",
       "Name: date_served, Length: 10022, dtype: datetime64[ns]"
      ]
     },
     "execution_count": 23,
     "metadata": {},
     "output_type": "execute_result"
    }
   ],
   "source": [
    "data['date_served']=pd.to_datetime(data['date_served']) # converts to a pandas datetime object\n",
    "data['date_served']"
   ]
  },
  {
   "cell_type": "markdown",
   "metadata": {},
   "source": [
    "#### Practice 2\n",
    "What is the overall conversion rate? hint: use column 'converted'"
   ]
  },
  {
   "cell_type": "code",
   "execution_count": 24,
   "metadata": {},
   "outputs": [
    {
     "data": {
      "text/plain": [
       "converted\n",
       "False    6854\n",
       "True     1015\n",
       "Name: user_id, dtype: int64"
      ]
     },
     "execution_count": 24,
     "metadata": {},
     "output_type": "execute_result"
    }
   ],
   "source": [
    "# whats the difference?\n",
    "# there are repeated user_ids, so 'converted 'column may also have things repeated, needs to groupby id\n",
    "data[\"converted\"].sum()\n",
    "data.groupby([\"converted\"])[\"user_id\"].nunique()"
   ]
  },
  {
   "cell_type": "code",
   "execution_count": 25,
   "metadata": {},
   "outputs": [
    {
     "name": "stdout",
     "output_type": "stream",
     "text": [
      "converted\n",
      "False    0.939676\n",
      "True     0.139155\n",
      "Name: user_id, dtype: float64\n"
     ]
    }
   ],
   "source": [
    "# number of people conderted (TRUE)/ number of people served\n",
    "# boolean True is 1 so .sum()  # nunique() - count disdinct values; value_counts - return a list of distinct count for each\n",
    "conversion_rate = data.groupby([\"converted\"])[\"user_id\"].nunique()/data[\"user_id\"].nunique()\n",
    "print(conversion_rate)\n"
   ]
  },
  {
   "cell_type": "code",
   "execution_count": 26,
   "metadata": {},
   "outputs": [],
   "source": [
    "# Why is the sum of false and true rates larger than 1? Do we care about the false rate?\n",
    "# -- because number of T+F records(7869) > number of users (7294)"
   ]
  },
  {
   "cell_type": "markdown",
   "metadata": {},
   "source": [
    "#### 2.2 Common marketing metrics to evaluate campaign performance\n",
    "- **Conversion rate** = Number of people who converted / Total number of people who received offers\n",
    "- **Retention rate** = number of people who remained / Total number of people who converted"
   ]
  },
  {
   "cell_type": "markdown",
   "metadata": {},
   "source": [
    "how to do filtering in Pandas:"
   ]
  },
  {
   "cell_type": "code",
   "execution_count": 27,
   "metadata": {},
   "outputs": [
    {
     "data": {
      "text/plain": [
       "0         True\n",
       "1         True\n",
       "2         True\n",
       "3         True\n",
       "4         True\n",
       "         ...  \n",
       "10017    False\n",
       "10018     True\n",
       "10019     True\n",
       "10020     True\n",
       "10021     True\n",
       "Name: is_retained, Length: 10022, dtype: bool"
      ]
     },
     "execution_count": 27,
     "metadata": {},
     "output_type": "execute_result"
    }
   ],
   "source": [
    "# Step one: create a boolean mask\n",
    "data['is_retained']==True"
   ]
  },
  {
   "cell_type": "code",
   "execution_count": 28,
   "metadata": {},
   "outputs": [
    {
     "data": {
      "text/html": [
       "<div>\n",
       "<style scoped>\n",
       "    .dataframe tbody tr th:only-of-type {\n",
       "        vertical-align: middle;\n",
       "    }\n",
       "\n",
       "    .dataframe tbody tr th {\n",
       "        vertical-align: top;\n",
       "    }\n",
       "\n",
       "    .dataframe thead th {\n",
       "        text-align: right;\n",
       "    }\n",
       "</style>\n",
       "<table border=\"1\" class=\"dataframe\">\n",
       "  <thead>\n",
       "    <tr style=\"text-align: right;\">\n",
       "      <th></th>\n",
       "      <th>user_id</th>\n",
       "      <th>date_served</th>\n",
       "      <th>marketing_channel</th>\n",
       "      <th>test_control</th>\n",
       "      <th>converted</th>\n",
       "      <th>language_preferred</th>\n",
       "      <th>age_group</th>\n",
       "      <th>date_subscribed</th>\n",
       "      <th>date_canceled</th>\n",
       "      <th>is_retained</th>\n",
       "    </tr>\n",
       "  </thead>\n",
       "  <tbody>\n",
       "    <tr>\n",
       "      <th>0</th>\n",
       "      <td>a100000029</td>\n",
       "      <td>2018-01-01</td>\n",
       "      <td>House Ads</td>\n",
       "      <td>personalization</td>\n",
       "      <td>True</td>\n",
       "      <td>English</td>\n",
       "      <td>0-18 years</td>\n",
       "      <td>1/1/2018</td>\n",
       "      <td>NaN</td>\n",
       "      <td>True</td>\n",
       "    </tr>\n",
       "    <tr>\n",
       "      <th>1</th>\n",
       "      <td>a100000030</td>\n",
       "      <td>2018-01-01</td>\n",
       "      <td>House Ads</td>\n",
       "      <td>personalization</td>\n",
       "      <td>True</td>\n",
       "      <td>English</td>\n",
       "      <td>19-24 years</td>\n",
       "      <td>1/1/2018</td>\n",
       "      <td>NaN</td>\n",
       "      <td>True</td>\n",
       "    </tr>\n",
       "    <tr>\n",
       "      <th>2</th>\n",
       "      <td>a100000031</td>\n",
       "      <td>2018-01-01</td>\n",
       "      <td>House Ads</td>\n",
       "      <td>personalization</td>\n",
       "      <td>True</td>\n",
       "      <td>English</td>\n",
       "      <td>24-30 years</td>\n",
       "      <td>1/1/2018</td>\n",
       "      <td>NaN</td>\n",
       "      <td>True</td>\n",
       "    </tr>\n",
       "    <tr>\n",
       "      <th>3</th>\n",
       "      <td>a100000032</td>\n",
       "      <td>2018-01-01</td>\n",
       "      <td>House Ads</td>\n",
       "      <td>personalization</td>\n",
       "      <td>True</td>\n",
       "      <td>English</td>\n",
       "      <td>30-36 years</td>\n",
       "      <td>1/1/2018</td>\n",
       "      <td>NaN</td>\n",
       "      <td>True</td>\n",
       "    </tr>\n",
       "    <tr>\n",
       "      <th>4</th>\n",
       "      <td>a100000033</td>\n",
       "      <td>2018-01-01</td>\n",
       "      <td>House Ads</td>\n",
       "      <td>personalization</td>\n",
       "      <td>True</td>\n",
       "      <td>English</td>\n",
       "      <td>36-45 years</td>\n",
       "      <td>1/1/2018</td>\n",
       "      <td>NaN</td>\n",
       "      <td>True</td>\n",
       "    </tr>\n",
       "    <tr>\n",
       "      <th>...</th>\n",
       "      <td>...</td>\n",
       "      <td>...</td>\n",
       "      <td>...</td>\n",
       "      <td>...</td>\n",
       "      <td>...</td>\n",
       "      <td>...</td>\n",
       "      <td>...</td>\n",
       "      <td>...</td>\n",
       "      <td>...</td>\n",
       "      <td>...</td>\n",
       "    </tr>\n",
       "    <tr>\n",
       "      <th>10008</th>\n",
       "      <td>a100007281</td>\n",
       "      <td>2018-01-17</td>\n",
       "      <td>Email</td>\n",
       "      <td>control</td>\n",
       "      <td>True</td>\n",
       "      <td>German</td>\n",
       "      <td>30-36 years</td>\n",
       "      <td>1/17/2018</td>\n",
       "      <td>NaN</td>\n",
       "      <td>True</td>\n",
       "    </tr>\n",
       "    <tr>\n",
       "      <th>10018</th>\n",
       "      <td>a100007291</td>\n",
       "      <td>2018-01-17</td>\n",
       "      <td>Email</td>\n",
       "      <td>control</td>\n",
       "      <td>True</td>\n",
       "      <td>German</td>\n",
       "      <td>55+ years</td>\n",
       "      <td>1/17/2018</td>\n",
       "      <td>NaN</td>\n",
       "      <td>True</td>\n",
       "    </tr>\n",
       "    <tr>\n",
       "      <th>10019</th>\n",
       "      <td>a100007292</td>\n",
       "      <td>2018-01-05</td>\n",
       "      <td>Instagram</td>\n",
       "      <td>control</td>\n",
       "      <td>False</td>\n",
       "      <td>German</td>\n",
       "      <td>55+ years</td>\n",
       "      <td>1/17/2018</td>\n",
       "      <td>NaN</td>\n",
       "      <td>True</td>\n",
       "    </tr>\n",
       "    <tr>\n",
       "      <th>10020</th>\n",
       "      <td>a100007293</td>\n",
       "      <td>2018-01-17</td>\n",
       "      <td>Email</td>\n",
       "      <td>control</td>\n",
       "      <td>True</td>\n",
       "      <td>German</td>\n",
       "      <td>0-18 years</td>\n",
       "      <td>1/17/2018</td>\n",
       "      <td>NaN</td>\n",
       "      <td>True</td>\n",
       "    </tr>\n",
       "    <tr>\n",
       "      <th>10021</th>\n",
       "      <td>a100007294</td>\n",
       "      <td>2018-01-06</td>\n",
       "      <td>Facebook</td>\n",
       "      <td>control</td>\n",
       "      <td>False</td>\n",
       "      <td>German</td>\n",
       "      <td>0-18 years</td>\n",
       "      <td>1/17/2018</td>\n",
       "      <td>NaN</td>\n",
       "      <td>True</td>\n",
       "    </tr>\n",
       "  </tbody>\n",
       "</table>\n",
       "<p>1279 rows × 10 columns</p>\n",
       "</div>"
      ],
      "text/plain": [
       "          user_id date_served marketing_channel     test_control  converted  \\\n",
       "0      a100000029  2018-01-01         House Ads  personalization       True   \n",
       "1      a100000030  2018-01-01         House Ads  personalization       True   \n",
       "2      a100000031  2018-01-01         House Ads  personalization       True   \n",
       "3      a100000032  2018-01-01         House Ads  personalization       True   \n",
       "4      a100000033  2018-01-01         House Ads  personalization       True   \n",
       "...           ...         ...               ...              ...        ...   \n",
       "10008  a100007281  2018-01-17             Email          control       True   \n",
       "10018  a100007291  2018-01-17             Email          control       True   \n",
       "10019  a100007292  2018-01-05         Instagram          control      False   \n",
       "10020  a100007293  2018-01-17             Email          control       True   \n",
       "10021  a100007294  2018-01-06          Facebook          control      False   \n",
       "\n",
       "      language_preferred    age_group date_subscribed date_canceled  \\\n",
       "0                English   0-18 years        1/1/2018           NaN   \n",
       "1                English  19-24 years        1/1/2018           NaN   \n",
       "2                English  24-30 years        1/1/2018           NaN   \n",
       "3                English  30-36 years        1/1/2018           NaN   \n",
       "4                English  36-45 years        1/1/2018           NaN   \n",
       "...                  ...          ...             ...           ...   \n",
       "10008             German  30-36 years       1/17/2018           NaN   \n",
       "10018             German    55+ years       1/17/2018           NaN   \n",
       "10019             German    55+ years       1/17/2018           NaN   \n",
       "10020             German   0-18 years       1/17/2018           NaN   \n",
       "10021             German   0-18 years       1/17/2018           NaN   \n",
       "\n",
       "      is_retained  \n",
       "0            True  \n",
       "1            True  \n",
       "2            True  \n",
       "3            True  \n",
       "4            True  \n",
       "...           ...  \n",
       "10008        True  \n",
       "10018        True  \n",
       "10019        True  \n",
       "10020        True  \n",
       "10021        True  \n",
       "\n",
       "[1279 rows x 10 columns]"
      ]
     },
     "execution_count": 28,
     "metadata": {},
     "output_type": "execute_result"
    }
   ],
   "source": [
    "# Step two: put the boolean mask into the dataframe\n",
    "# loc - filtering or condition\n",
    "# Access a group of rows and columns by label(s) or a boolean array.\n",
    "data.loc[data['is_retained']==True]    #select * from data where is_retained = True"
   ]
  },
  {
   "cell_type": "code",
   "execution_count": 29,
   "metadata": {},
   "outputs": [],
   "source": [
    "retained = data.loc[data['is_retained']==True]['user_id'].nunique()\n",
    "# select count(distinct user_id) from data where is_retained = True"
   ]
  },
  {
   "cell_type": "code",
   "execution_count": 30,
   "metadata": {},
   "outputs": [
    {
     "name": "stdout",
     "output_type": "stream",
     "text": [
      "678\n"
     ]
    }
   ],
   "source": [
    "print(retained)"
   ]
  },
  {
   "cell_type": "code",
   "execution_count": 31,
   "metadata": {},
   "outputs": [],
   "source": [
    "converted = data.loc[data['converted']==True]['user_id'].nunique()"
   ]
  },
  {
   "cell_type": "code",
   "execution_count": 32,
   "metadata": {},
   "outputs": [
    {
     "name": "stdout",
     "output_type": "stream",
     "text": [
      "1015\n"
     ]
    }
   ],
   "source": [
    "print(converted)"
   ]
  },
  {
   "cell_type": "code",
   "execution_count": 33,
   "metadata": {},
   "outputs": [],
   "source": [
    "retention_rate = retained / converted"
   ]
  },
  {
   "cell_type": "code",
   "execution_count": 34,
   "metadata": {},
   "outputs": [
    {
     "name": "stdout",
     "output_type": "stream",
     "text": [
      "0.67\n"
     ]
    }
   ],
   "source": [
    "print(round(retention_rate,2))"
   ]
  },
  {
   "cell_type": "code",
   "execution_count": null,
   "metadata": {},
   "outputs": [],
   "source": []
  },
  {
   "cell_type": "markdown",
   "metadata": {},
   "source": [
    "**Extra Practice**: plot accumulative response rate by day:"
   ]
  },
  {
   "cell_type": "code",
   "execution_count": 35,
   "metadata": {},
   "outputs": [
    {
     "name": "stdout",
     "output_type": "stream",
     "text": [
      "date_served\n",
      "2018-01-01    36\n",
      "2018-01-02    37\n",
      "2018-01-03    36\n",
      "2018-01-04    35\n",
      "2018-01-05    40\n",
      "2018-01-06    35\n",
      "2018-01-07    39\n",
      "2018-01-08    36\n",
      "2018-01-09    39\n",
      "2018-01-10    40\n",
      "2018-01-11    25\n",
      "2018-01-12    23\n",
      "2018-01-13    26\n",
      "2018-01-14    26\n",
      "2018-01-15    87\n",
      "2018-01-16    99\n",
      "2018-01-17    81\n",
      "2018-01-18    29\n",
      "2018-01-19    18\n",
      "2018-01-20    21\n",
      "2018-01-21    20\n",
      "2018-01-22    22\n",
      "2018-01-23    21\n",
      "2018-01-24    22\n",
      "2018-01-25    23\n",
      "2018-01-26    20\n",
      "2018-01-27    21\n",
      "2018-01-28    20\n",
      "2018-01-29    19\n",
      "2018-01-30    21\n",
      "2018-01-31    18\n",
      "Name: user_id, dtype: int64\n"
     ]
    }
   ],
   "source": [
    "# accumulative conversion rate by day\n",
    "daily_responder = data.loc[data['converted'] == True].groupby(['date_served'])['user_id'].nunique()\n",
    "print(daily_responder)\n",
    "# data.loc[data['converted'] - filter/condition\n",
    "# .groupby(['date_served']) - group by date\\\n",
    "# ['user_id'].nunique() - count user id"
   ]
  },
  {
   "cell_type": "code",
   "execution_count": 36,
   "metadata": {},
   "outputs": [
    {
     "data": {
      "text/plain": [
       "date_served\n",
       "2018-01-01      36\n",
       "2018-01-02      73\n",
       "2018-01-03     109\n",
       "2018-01-04     144\n",
       "2018-01-05     184\n",
       "2018-01-06     219\n",
       "2018-01-07     258\n",
       "2018-01-08     294\n",
       "2018-01-09     333\n",
       "2018-01-10     373\n",
       "2018-01-11     398\n",
       "2018-01-12     421\n",
       "2018-01-13     447\n",
       "2018-01-14     473\n",
       "2018-01-15     560\n",
       "2018-01-16     659\n",
       "2018-01-17     740\n",
       "2018-01-18     769\n",
       "2018-01-19     787\n",
       "2018-01-20     808\n",
       "2018-01-21     828\n",
       "2018-01-22     850\n",
       "2018-01-23     871\n",
       "2018-01-24     893\n",
       "2018-01-25     916\n",
       "2018-01-26     936\n",
       "2018-01-27     957\n",
       "2018-01-28     977\n",
       "2018-01-29     996\n",
       "2018-01-30    1017\n",
       "2018-01-31    1035\n",
       "Name: user_id, dtype: int64"
      ]
     },
     "execution_count": 36,
     "metadata": {},
     "output_type": "execute_result"
    }
   ],
   "source": [
    "daily_responder.cumsum() # compute the cumulative sum of array elements over a given axis."
   ]
  },
  {
   "cell_type": "code",
   "execution_count": 37,
   "metadata": {},
   "outputs": [
    {
     "data": {
      "text/plain": [
       "<AxesSubplot:xlabel='date_served'>"
      ]
     },
     "execution_count": 37,
     "metadata": {},
     "output_type": "execute_result"
    },
    {
     "data": {
      "image/png": "[encoded data removed]",
      "text/plain": [
       "<Figure size 432x288 with 1 Axes>"
      ]
     },
     "metadata": {
      "needs_background": "light"
     },
     "output_type": "display_data"
    }
   ],
   "source": [
    "accu_response_by_day = daily_responder.cumsum() / data[\"user_id\"].nunique()\n",
    "accu_response_by_day.plot()"
   ]
  },
  {
   "cell_type": "markdown",
   "metadata": {},
   "source": [
    "#### 2.3 Customer Segmentation analysis\n",
    " - Use segemetnation analysis to \n",
    "     - Analyze campaign performance by each segments\n",
    "     - Target profitable segments for next campaign\n",
    "     \n",
    " - Creating segmentation variables is the first step - usually this will happen in SQL"
   ]
  },
  {
   "cell_type": "code",
   "execution_count": 38,
   "metadata": {},
   "outputs": [
    {
     "data": {
      "text/plain": [
       "pandas.core.series.Series"
      ]
     },
     "execution_count": 38,
     "metadata": {},
     "output_type": "execute_result"
    }
   ],
   "source": [
    "# Look at by marketing channel:\n",
    "received_by_channel = data.groupby(['marketing_channel'])['user_id'].nunique()\n",
    "type(received_by_channel)\\\n",
    "# dataframe after aggregation is series; 进行了聚合操作。可以看出聚合后输出为series"
   ]
  },
  {
   "cell_type": "code",
   "execution_count": 39,
   "metadata": {},
   "outputs": [],
   "source": [
    "# How many customers are converted in each marketing channel\n",
    "converted_by_channel = data.loc[data['converted']==True].groupby(['marketing_channel'])['user_id'].nunique()"
   ]
  },
  {
   "cell_type": "markdown",
   "metadata": {},
   "source": [
    "Conversion rate by channel"
   ]
  },
  {
   "cell_type": "code",
   "execution_count": 40,
   "metadata": {},
   "outputs": [],
   "source": [
    "conversion_rate_by_channel = converted_by_channel / received_by_channel"
   ]
  },
  {
   "cell_type": "code",
   "execution_count": 41,
   "metadata": {},
   "outputs": [
    {
     "data": {
      "image/png": "[encoded data removed]",
      "text/plain": [
       "<Figure size 432x288 with 1 Axes>"
      ]
     },
     "metadata": {
      "needs_background": "light"
     },
     "output_type": "display_data"
    }
   ],
   "source": [
    "#plot conversion rate by channel:\n",
    "\n",
    "import matplotlib.pyplot as plt\n",
    "\n",
    "# bar chart\n",
    "conversion_rate_by_channel.plot(kind='bar')\n",
    "\n",
    "# annotate\n",
    "plt.title('conversion rate by channel')\n",
    "plt.xlabel('marketing channel')\n",
    "plt.ylabel('conversion rate')\n",
    "plt.show()"
   ]
  },
  {
   "cell_type": "code",
   "execution_count": 42,
   "metadata": {},
   "outputs": [
    {
     "name": "stdout",
     "output_type": "stream",
     "text": [
      "     Channel  Percentage\n",
      "0      Email    0.338156\n",
      "1   Facebook    0.125711\n",
      "2  House Ads    0.075101\n",
      "3  Instagram    0.133333\n",
      "4       Push    0.079218\n"
     ]
    },
    {
     "data": {
      "text/plain": [
       "pandas.core.frame.DataFrame"
      ]
     },
     "execution_count": 42,
     "metadata": {},
     "output_type": "execute_result"
    }
   ],
   "source": [
    "conversion_rate_by_channel = converted_by_channel / received_by_channel\n",
    "df1 = conversion_rate_by_channel.reset_index() # Generate a new DataFrame or Series with the index reset.\n",
    "df1.columns = [\"Channel\", \"Percentage\"]\n",
    "print(df1)\n",
    "type(df1)"
   ]
  },
  {
   "cell_type": "code",
   "execution_count": 43,
   "metadata": {},
   "outputs": [
    {
     "name": "stdout",
     "output_type": "stream",
     "text": [
      "     Channel Percentage\n",
      "0      Email     33.82%\n",
      "1   Facebook     12.57%\n",
      "2  House Ads      7.51%\n",
      "3  Instagram     13.33%\n",
      "4       Push      7.92%\n"
     ]
    }
   ],
   "source": [
    "# using map to subtitute the values with formatted\n",
    "df1[\"Percentage\"] = df1[\"Percentage\"].map('{:.2%}'.format)\n",
    "print(df1)"
   ]
  },
  {
   "cell_type": "code",
   "execution_count": 44,
   "metadata": {},
   "outputs": [],
   "source": [
    "# dic = conversion_rate_by_channel.to_dict()   \n",
    "# print(dic)"
   ]
  },
  {
   "cell_type": "markdown",
   "metadata": {},
   "source": [
    "#### Practice 3\n",
    "What is the retention rate by each marketing channel?"
   ]
  },
  {
   "cell_type": "code",
   "execution_count": 45,
   "metadata": {},
   "outputs": [],
   "source": [
    "# Retention rate = number of people who remained / Total number of people who converted\n",
    "# converted_by_channel = data.loc[data['converted']==True].groupby(['marketing_channel'])['user_id'].nunique()"
   ]
  },
  {
   "cell_type": "code",
   "execution_count": 46,
   "metadata": {},
   "outputs": [
    {
     "name": "stdout",
     "output_type": "stream",
     "text": [
      "marketing_channel\n",
      "Email        139\n",
      "Facebook     211\n",
      "House Ads    378\n",
      "Instagram    198\n",
      "Push          95\n",
      "Name: user_id, dtype: int64\n"
     ]
    }
   ],
   "source": [
    "retained_by_channel = data.loc[data['is_retained']==True].groupby(['marketing_channel'])['user_id'].nunique()\n",
    "print(retained_by_channel)"
   ]
  },
  {
   "cell_type": "code",
   "execution_count": 47,
   "metadata": {},
   "outputs": [
    {
     "name": "stdout",
     "output_type": "stream",
     "text": [
      "                   user_id  date_served  test_control  converted  \\\n",
      "marketing_channel                                                  \n",
      "Email                  139           28             2          2   \n",
      "Facebook               211           31             2          2   \n",
      "House Ads              378           31             2          2   \n",
      "Instagram              198           31             2          2   \n",
      "Push                    95           30             2          2   \n",
      "\n",
      "                   language_preferred  age_group  date_subscribed  \\\n",
      "marketing_channel                                                   \n",
      "Email                               4          7               27   \n",
      "Facebook                            3          7               31   \n",
      "House Ads                           4          7               31   \n",
      "Instagram                           3          7               31   \n",
      "Push                                1          7               29   \n",
      "\n",
      "                   date_canceled  is_retained  \n",
      "marketing_channel                              \n",
      "Email                          0            1  \n",
      "Facebook                       0            1  \n",
      "House Ads                      0            1  \n",
      "Instagram                      0            1  \n",
      "Push                           0            1  \n"
     ]
    }
   ],
   "source": [
    "retained_by_channel1 = data.loc[data['is_retained']==True].groupby(['marketing_channel']).nunique()\n",
    "print(retained_by_channel1)"
   ]
  },
  {
   "cell_type": "code",
   "execution_count": 48,
   "metadata": {},
   "outputs": [
    {
     "name": "stdout",
     "output_type": "stream",
     "text": [
      "marketing_channel\n",
      "Email        0.743316\n",
      "Facebook     0.954751\n",
      "House Ads    1.268456\n",
      "Instagram    0.853448\n",
      "Push         1.233766\n",
      "Name: user_id, dtype: float64\n"
     ]
    }
   ],
   "source": [
    "retention_rate_by_channel = retained_by_channel / converted_by_channel\n",
    "print(retention_rate_by_channel)"
   ]
  },
  {
   "cell_type": "code",
   "execution_count": 49,
   "metadata": {},
   "outputs": [
    {
     "name": "stdout",
     "output_type": "stream",
     "text": [
      "          user_id date_served marketing_channel     test_control  converted  \\\n",
      "22     a100000050  2018-01-01         House Ads  personalization      False   \n",
      "24     a100000051  2018-01-01              Push  personalization      False   \n",
      "26     a100000052  2018-01-01         House Ads  personalization      False   \n",
      "28     a100000053  2018-01-01         House Ads  personalization      False   \n",
      "30     a100000054  2018-01-01         House Ads  personalization      False   \n",
      "...           ...         ...               ...              ...        ...   \n",
      "9985   a100007258  2018-01-15             Email  personalization      False   \n",
      "9993   a100007266  2018-01-16             Email  personalization      False   \n",
      "10005  a100007278  2018-01-16             Email          control      False   \n",
      "10019  a100007292  2018-01-05         Instagram          control      False   \n",
      "10021  a100007294  2018-01-06          Facebook          control      False   \n",
      "\n",
      "      language_preferred    age_group date_subscribed date_canceled  \\\n",
      "22               English  24-30 years        1/2/2018           NaN   \n",
      "24               English  30-36 years        1/2/2018           NaN   \n",
      "26               English  36-45 years        1/2/2018           NaN   \n",
      "28               English  45-55 years        1/2/2018           NaN   \n",
      "30               English    55+ years        1/2/2018           NaN   \n",
      "...                  ...          ...             ...           ...   \n",
      "9985              German  24-30 years       1/15/2018           NaN   \n",
      "9993              German  24-30 years       1/16/2018           NaN   \n",
      "10005             German   0-18 years       1/16/2018           NaN   \n",
      "10019             German    55+ years       1/17/2018           NaN   \n",
      "10021             German   0-18 years       1/17/2018           NaN   \n",
      "\n",
      "      is_retained  \n",
      "22           True  \n",
      "24           True  \n",
      "26           True  \n",
      "28           True  \n",
      "30           True  \n",
      "...           ...  \n",
      "9985         True  \n",
      "9993         True  \n",
      "10005        True  \n",
      "10019        True  \n",
      "10021        True  \n",
      "\n",
      "[578 rows x 10 columns]\n"
     ]
    },
    {
     "data": {
      "text/plain": [
       "pandas.core.frame.DataFrame"
      ]
     },
     "execution_count": 49,
     "metadata": {},
     "output_type": "execute_result"
    }
   ],
   "source": [
    "# why some rate is >1 ?\n",
    "# assumption 1: some who werent converted were still retained as regualr customer\n",
    "\n",
    "# -- data investigation\n",
    "inv = data.loc[(data['converted']==False) & (data['is_retained']==True)]\n",
    "print(inv)\n",
    "type(inv)"
   ]
  },
  {
   "cell_type": "code",
   "execution_count": 50,
   "metadata": {},
   "outputs": [
    {
     "data": {
      "text/html": [
       "<div>\n",
       "<style scoped>\n",
       "    .dataframe tbody tr th:only-of-type {\n",
       "        vertical-align: middle;\n",
       "    }\n",
       "\n",
       "    .dataframe tbody tr th {\n",
       "        vertical-align: top;\n",
       "    }\n",
       "\n",
       "    .dataframe thead th {\n",
       "        text-align: right;\n",
       "    }\n",
       "</style>\n",
       "<table border=\"1\" class=\"dataframe\">\n",
       "  <thead>\n",
       "    <tr style=\"text-align: right;\">\n",
       "      <th></th>\n",
       "      <th>user_id</th>\n",
       "      <th>date_served</th>\n",
       "      <th>marketing_channel</th>\n",
       "      <th>test_control</th>\n",
       "      <th>converted</th>\n",
       "      <th>language_preferred</th>\n",
       "      <th>age_group</th>\n",
       "      <th>date_subscribed</th>\n",
       "      <th>date_canceled</th>\n",
       "      <th>is_retained</th>\n",
       "    </tr>\n",
       "  </thead>\n",
       "  <tbody>\n",
       "    <tr>\n",
       "      <th>21</th>\n",
       "      <td>a100000050</td>\n",
       "      <td>2018-01-02</td>\n",
       "      <td>House Ads</td>\n",
       "      <td>personalization</td>\n",
       "      <td>True</td>\n",
       "      <td>English</td>\n",
       "      <td>24-30 years</td>\n",
       "      <td>1/2/2018</td>\n",
       "      <td>NaN</td>\n",
       "      <td>True</td>\n",
       "    </tr>\n",
       "    <tr>\n",
       "      <th>22</th>\n",
       "      <td>a100000050</td>\n",
       "      <td>2018-01-01</td>\n",
       "      <td>House Ads</td>\n",
       "      <td>personalization</td>\n",
       "      <td>False</td>\n",
       "      <td>English</td>\n",
       "      <td>24-30 years</td>\n",
       "      <td>1/2/2018</td>\n",
       "      <td>NaN</td>\n",
       "      <td>True</td>\n",
       "    </tr>\n",
       "  </tbody>\n",
       "</table>\n",
       "</div>"
      ],
      "text/plain": [
       "       user_id date_served marketing_channel     test_control  converted  \\\n",
       "21  a100000050  2018-01-02         House Ads  personalization       True   \n",
       "22  a100000050  2018-01-01         House Ads  personalization      False   \n",
       "\n",
       "   language_preferred    age_group date_subscribed date_canceled is_retained  \n",
       "21            English  24-30 years        1/2/2018           NaN        True  \n",
       "22            English  24-30 years        1/2/2018           NaN        True  "
      ]
     },
     "execution_count": 50,
     "metadata": {},
     "output_type": "execute_result"
    }
   ],
   "source": [
    "data.loc[data['user_id'] == 'a100000050']\n",
    "# even though this still canbnot explain why rate is > 1, because we used 'nunique()', which only kept distinct user"
   ]
  },
  {
   "cell_type": "code",
   "execution_count": 51,
   "metadata": {
    "scrolled": false
   },
   "outputs": [
    {
     "name": "stdout",
     "output_type": "stream",
     "text": [
      "22       a100000050\n",
      "24       a100000051\n",
      "26       a100000052\n",
      "28       a100000053\n",
      "30       a100000054\n",
      "            ...    \n",
      "9985     a100007258\n",
      "9993     a100007266\n",
      "10005    a100007278\n",
      "10019    a100007292\n",
      "10021    a100007294\n",
      "Name: user_id, Length: 578, dtype: object\n"
     ]
    },
    {
     "data": {
      "text/plain": [
       "pandas.core.series.Series"
      ]
     },
     "execution_count": 51,
     "metadata": {},
     "output_type": "execute_result"
    }
   ],
   "source": [
    "# more invegstigation\n",
    "inv_id=inv['user_id']\n",
    "print(inv_id)\n",
    "type(inv_id)\n",
    "# select user_id column from dataframe inv as series (converted false but restained true)"
   ]
  },
  {
   "cell_type": "code",
   "execution_count": 52,
   "metadata": {},
   "outputs": [
    {
     "data": {
      "text/plain": [
       "0        False\n",
       "1        False\n",
       "2        False\n",
       "3        False\n",
       "4        False\n",
       "         ...  \n",
       "10017    False\n",
       "10018    False\n",
       "10019     True\n",
       "10020    False\n",
       "10021     True\n",
       "Name: user_id, Length: 10022, dtype: bool"
      ]
     },
     "execution_count": 52,
     "metadata": {},
     "output_type": "execute_result"
    }
   ],
   "source": [
    "data['user_id'].isin(inv_id)  # boolean： 有遇到(converted false but restained true)这样情况的user则给他标记为TRUE"
   ]
  },
  {
   "cell_type": "code",
   "execution_count": 53,
   "metadata": {},
   "outputs": [
    {
     "data": {
      "text/html": [
       "<div>\n",
       "<style scoped>\n",
       "    .dataframe tbody tr th:only-of-type {\n",
       "        vertical-align: middle;\n",
       "    }\n",
       "\n",
       "    .dataframe tbody tr th {\n",
       "        vertical-align: top;\n",
       "    }\n",
       "\n",
       "    .dataframe thead th {\n",
       "        text-align: right;\n",
       "    }\n",
       "</style>\n",
       "<table border=\"1\" class=\"dataframe\">\n",
       "  <thead>\n",
       "    <tr style=\"text-align: right;\">\n",
       "      <th></th>\n",
       "      <th>user_id</th>\n",
       "      <th>date_served</th>\n",
       "      <th>marketing_channel</th>\n",
       "      <th>test_control</th>\n",
       "      <th>converted</th>\n",
       "      <th>language_preferred</th>\n",
       "      <th>age_group</th>\n",
       "      <th>date_subscribed</th>\n",
       "      <th>date_canceled</th>\n",
       "      <th>is_retained</th>\n",
       "    </tr>\n",
       "  </thead>\n",
       "  <tbody>\n",
       "    <tr>\n",
       "      <th>21</th>\n",
       "      <td>a100000050</td>\n",
       "      <td>2018-01-02</td>\n",
       "      <td>House Ads</td>\n",
       "      <td>personalization</td>\n",
       "      <td>True</td>\n",
       "      <td>English</td>\n",
       "      <td>24-30 years</td>\n",
       "      <td>1/2/2018</td>\n",
       "      <td>NaN</td>\n",
       "      <td>True</td>\n",
       "    </tr>\n",
       "    <tr>\n",
       "      <th>22</th>\n",
       "      <td>a100000050</td>\n",
       "      <td>2018-01-01</td>\n",
       "      <td>House Ads</td>\n",
       "      <td>personalization</td>\n",
       "      <td>False</td>\n",
       "      <td>English</td>\n",
       "      <td>24-30 years</td>\n",
       "      <td>1/2/2018</td>\n",
       "      <td>NaN</td>\n",
       "      <td>True</td>\n",
       "    </tr>\n",
       "    <tr>\n",
       "      <th>23</th>\n",
       "      <td>a100000051</td>\n",
       "      <td>2018-01-02</td>\n",
       "      <td>House Ads</td>\n",
       "      <td>personalization</td>\n",
       "      <td>True</td>\n",
       "      <td>English</td>\n",
       "      <td>30-36 years</td>\n",
       "      <td>1/2/2018</td>\n",
       "      <td>NaN</td>\n",
       "      <td>True</td>\n",
       "    </tr>\n",
       "    <tr>\n",
       "      <th>24</th>\n",
       "      <td>a100000051</td>\n",
       "      <td>2018-01-01</td>\n",
       "      <td>Push</td>\n",
       "      <td>personalization</td>\n",
       "      <td>False</td>\n",
       "      <td>English</td>\n",
       "      <td>30-36 years</td>\n",
       "      <td>1/2/2018</td>\n",
       "      <td>NaN</td>\n",
       "      <td>True</td>\n",
       "    </tr>\n",
       "    <tr>\n",
       "      <th>25</th>\n",
       "      <td>a100000052</td>\n",
       "      <td>2018-01-02</td>\n",
       "      <td>House Ads</td>\n",
       "      <td>personalization</td>\n",
       "      <td>True</td>\n",
       "      <td>English</td>\n",
       "      <td>36-45 years</td>\n",
       "      <td>1/2/2018</td>\n",
       "      <td>NaN</td>\n",
       "      <td>True</td>\n",
       "    </tr>\n",
       "    <tr>\n",
       "      <th>...</th>\n",
       "      <td>...</td>\n",
       "      <td>...</td>\n",
       "      <td>...</td>\n",
       "      <td>...</td>\n",
       "      <td>...</td>\n",
       "      <td>...</td>\n",
       "      <td>...</td>\n",
       "      <td>...</td>\n",
       "      <td>...</td>\n",
       "      <td>...</td>\n",
       "    </tr>\n",
       "    <tr>\n",
       "      <th>9985</th>\n",
       "      <td>a100007258</td>\n",
       "      <td>2018-01-15</td>\n",
       "      <td>Email</td>\n",
       "      <td>personalization</td>\n",
       "      <td>False</td>\n",
       "      <td>German</td>\n",
       "      <td>24-30 years</td>\n",
       "      <td>1/15/2018</td>\n",
       "      <td>NaN</td>\n",
       "      <td>True</td>\n",
       "    </tr>\n",
       "    <tr>\n",
       "      <th>9993</th>\n",
       "      <td>a100007266</td>\n",
       "      <td>2018-01-16</td>\n",
       "      <td>Email</td>\n",
       "      <td>personalization</td>\n",
       "      <td>False</td>\n",
       "      <td>German</td>\n",
       "      <td>24-30 years</td>\n",
       "      <td>1/16/2018</td>\n",
       "      <td>NaN</td>\n",
       "      <td>True</td>\n",
       "    </tr>\n",
       "    <tr>\n",
       "      <th>10005</th>\n",
       "      <td>a100007278</td>\n",
       "      <td>2018-01-16</td>\n",
       "      <td>Email</td>\n",
       "      <td>control</td>\n",
       "      <td>False</td>\n",
       "      <td>German</td>\n",
       "      <td>0-18 years</td>\n",
       "      <td>1/16/2018</td>\n",
       "      <td>NaN</td>\n",
       "      <td>True</td>\n",
       "    </tr>\n",
       "    <tr>\n",
       "      <th>10019</th>\n",
       "      <td>a100007292</td>\n",
       "      <td>2018-01-05</td>\n",
       "      <td>Instagram</td>\n",
       "      <td>control</td>\n",
       "      <td>False</td>\n",
       "      <td>German</td>\n",
       "      <td>55+ years</td>\n",
       "      <td>1/17/2018</td>\n",
       "      <td>NaN</td>\n",
       "      <td>True</td>\n",
       "    </tr>\n",
       "    <tr>\n",
       "      <th>10021</th>\n",
       "      <td>a100007294</td>\n",
       "      <td>2018-01-06</td>\n",
       "      <td>Facebook</td>\n",
       "      <td>control</td>\n",
       "      <td>False</td>\n",
       "      <td>German</td>\n",
       "      <td>0-18 years</td>\n",
       "      <td>1/17/2018</td>\n",
       "      <td>NaN</td>\n",
       "      <td>True</td>\n",
       "    </tr>\n",
       "  </tbody>\n",
       "</table>\n",
       "<p>1035 rows × 10 columns</p>\n",
       "</div>"
      ],
      "text/plain": [
       "          user_id date_served marketing_channel     test_control  converted  \\\n",
       "21     a100000050  2018-01-02         House Ads  personalization       True   \n",
       "22     a100000050  2018-01-01         House Ads  personalization      False   \n",
       "23     a100000051  2018-01-02         House Ads  personalization       True   \n",
       "24     a100000051  2018-01-01              Push  personalization      False   \n",
       "25     a100000052  2018-01-02         House Ads  personalization       True   \n",
       "...           ...         ...               ...              ...        ...   \n",
       "9985   a100007258  2018-01-15             Email  personalization      False   \n",
       "9993   a100007266  2018-01-16             Email  personalization      False   \n",
       "10005  a100007278  2018-01-16             Email          control      False   \n",
       "10019  a100007292  2018-01-05         Instagram          control      False   \n",
       "10021  a100007294  2018-01-06          Facebook          control      False   \n",
       "\n",
       "      language_preferred    age_group date_subscribed date_canceled  \\\n",
       "21               English  24-30 years        1/2/2018           NaN   \n",
       "22               English  24-30 years        1/2/2018           NaN   \n",
       "23               English  30-36 years        1/2/2018           NaN   \n",
       "24               English  30-36 years        1/2/2018           NaN   \n",
       "25               English  36-45 years        1/2/2018           NaN   \n",
       "...                  ...          ...             ...           ...   \n",
       "9985              German  24-30 years       1/15/2018           NaN   \n",
       "9993              German  24-30 years       1/16/2018           NaN   \n",
       "10005             German   0-18 years       1/16/2018           NaN   \n",
       "10019             German    55+ years       1/17/2018           NaN   \n",
       "10021             German   0-18 years       1/17/2018           NaN   \n",
       "\n",
       "      is_retained  \n",
       "21           True  \n",
       "22           True  \n",
       "23           True  \n",
       "24           True  \n",
       "25           True  \n",
       "...           ...  \n",
       "9985         True  \n",
       "9993         True  \n",
       "10005        True  \n",
       "10019        True  \n",
       "10021        True  \n",
       "\n",
       "[1035 rows x 10 columns]"
      ]
     },
     "execution_count": 53,
     "metadata": {},
     "output_type": "execute_result"
    }
   ],
   "source": [
    "data.loc[data['user_id'].isin(inv_id)] # 在data中选出有(converted false but restained true)情况的user的所有记录\n",
    "\n",
    "# 之前我们用 data.loc[data['is_retained']==True].groupby(['marketing_channel']).nunique()\n",
    "# nunique() this is aggregated witn in each channel.\n",
    "# One customer might be reached by different channels but only converted through one channel, but 'is_retained' will be true for either of thyem anyway. \n",
    "# Example user a100000051"
   ]
  },
  {
   "cell_type": "code",
   "execution_count": 54,
   "metadata": {},
   "outputs": [],
   "source": [
    "# how to avoid it?\n",
    "# if converted is false then is retained should be N/A"
   ]
  },
  {
   "cell_type": "code",
   "execution_count": 55,
   "metadata": {},
   "outputs": [],
   "source": [
    "# Does it make sense to look at Retention rate by differet marketing channels??\n",
    "# No"
   ]
  },
  {
   "cell_type": "markdown",
   "metadata": {},
   "source": [
    "##### 2.3.2 Customer Segmentation analysis by more than one segments"
   ]
  },
  {
   "cell_type": "code",
   "execution_count": 56,
   "metadata": {},
   "outputs": [],
   "source": [
    "language_age_convert=data.loc[data['converted']==True].groupby(['language_preferred', 'age_group'])['user_id'].nunique()"
   ]
  },
  {
   "cell_type": "code",
   "execution_count": 57,
   "metadata": {},
   "outputs": [
    {
     "name": "stdout",
     "output_type": "stream",
     "text": [
      "language_preferred  age_group  \n",
      "Arabic              0-18 years       4\n",
      "                    19-24 years      2\n",
      "                    24-30 years      8\n",
      "                    36-45 years      1\n",
      "                    45-55 years      3\n",
      "                    55+ years        1\n",
      "English             0-18 years     168\n",
      "                    19-24 years    281\n",
      "                    24-30 years    201\n",
      "                    30-36 years     69\n",
      "                    36-45 years     65\n",
      "                    45-55 years     61\n",
      "                    55+ years       66\n",
      "German              0-18 years      13\n",
      "                    19-24 years     14\n",
      "                    24-30 years     17\n",
      "                    30-36 years      3\n",
      "                    36-45 years      4\n",
      "                    45-55 years      6\n",
      "                    55+ years        2\n",
      "Spanish             0-18 years       7\n",
      "                    19-24 years      6\n",
      "                    24-30 years      2\n",
      "                    30-36 years      5\n",
      "                    36-45 years      4\n",
      "                    45-55 years      5\n",
      "                    55+ years        7\n",
      "Name: user_id, dtype: int64\n"
     ]
    }
   ],
   "source": [
    "print(language_age_convert)"
   ]
  },
  {
   "cell_type": "markdown",
   "metadata": {},
   "source": [
    "Unstack the result to a DataFrame, so that we can plot"
   ]
  },
  {
   "cell_type": "code",
   "execution_count": 58,
   "metadata": {},
   "outputs": [
    {
     "data": {
      "text/plain": [
       "pandas.core.series.Series"
      ]
     },
     "execution_count": 58,
     "metadata": {},
     "output_type": "execute_result"
    }
   ],
   "source": [
    "type(language_age_convert)"
   ]
  },
  {
   "cell_type": "code",
   "execution_count": 59,
   "metadata": {},
   "outputs": [
    {
     "data": {
      "text/html": [
       "<div>\n",
       "<style scoped>\n",
       "    .dataframe tbody tr th:only-of-type {\n",
       "        vertical-align: middle;\n",
       "    }\n",
       "\n",
       "    .dataframe tbody tr th {\n",
       "        vertical-align: top;\n",
       "    }\n",
       "\n",
       "    .dataframe thead th {\n",
       "        text-align: right;\n",
       "    }\n",
       "</style>\n",
       "<table border=\"1\" class=\"dataframe\">\n",
       "  <thead>\n",
       "    <tr style=\"text-align: right;\">\n",
       "      <th>age_group</th>\n",
       "      <th>0-18 years</th>\n",
       "      <th>19-24 years</th>\n",
       "      <th>24-30 years</th>\n",
       "      <th>30-36 years</th>\n",
       "      <th>36-45 years</th>\n",
       "      <th>45-55 years</th>\n",
       "      <th>55+ years</th>\n",
       "    </tr>\n",
       "    <tr>\n",
       "      <th>language_preferred</th>\n",
       "      <th></th>\n",
       "      <th></th>\n",
       "      <th></th>\n",
       "      <th></th>\n",
       "      <th></th>\n",
       "      <th></th>\n",
       "      <th></th>\n",
       "    </tr>\n",
       "  </thead>\n",
       "  <tbody>\n",
       "    <tr>\n",
       "      <th>Arabic</th>\n",
       "      <td>4.0</td>\n",
       "      <td>2.0</td>\n",
       "      <td>8.0</td>\n",
       "      <td>NaN</td>\n",
       "      <td>1.0</td>\n",
       "      <td>3.0</td>\n",
       "      <td>1.0</td>\n",
       "    </tr>\n",
       "    <tr>\n",
       "      <th>English</th>\n",
       "      <td>168.0</td>\n",
       "      <td>281.0</td>\n",
       "      <td>201.0</td>\n",
       "      <td>69.0</td>\n",
       "      <td>65.0</td>\n",
       "      <td>61.0</td>\n",
       "      <td>66.0</td>\n",
       "    </tr>\n",
       "    <tr>\n",
       "      <th>German</th>\n",
       "      <td>13.0</td>\n",
       "      <td>14.0</td>\n",
       "      <td>17.0</td>\n",
       "      <td>3.0</td>\n",
       "      <td>4.0</td>\n",
       "      <td>6.0</td>\n",
       "      <td>2.0</td>\n",
       "    </tr>\n",
       "    <tr>\n",
       "      <th>Spanish</th>\n",
       "      <td>7.0</td>\n",
       "      <td>6.0</td>\n",
       "      <td>2.0</td>\n",
       "      <td>5.0</td>\n",
       "      <td>4.0</td>\n",
       "      <td>5.0</td>\n",
       "      <td>7.0</td>\n",
       "    </tr>\n",
       "  </tbody>\n",
       "</table>\n",
       "</div>"
      ],
      "text/plain": [
       "age_group           0-18 years  19-24 years  24-30 years  30-36 years  \\\n",
       "language_preferred                                                      \n",
       "Arabic                     4.0          2.0          8.0          NaN   \n",
       "English                  168.0        281.0        201.0         69.0   \n",
       "German                    13.0         14.0         17.0          3.0   \n",
       "Spanish                    7.0          6.0          2.0          5.0   \n",
       "\n",
       "age_group           36-45 years  45-55 years  55+ years  \n",
       "language_preferred                                       \n",
       "Arabic                      1.0          3.0        1.0  \n",
       "English                    65.0         61.0       66.0  \n",
       "German                      4.0          6.0        2.0  \n",
       "Spanish                     4.0          5.0        7.0  "
      ]
     },
     "execution_count": 59,
     "metadata": {},
     "output_type": "execute_result"
    }
   ],
   "source": [
    "language_age_convert.unstack()  # similar to unnest (above is two level indexes) # pivot???"
   ]
  },
  {
   "cell_type": "code",
   "execution_count": 60,
   "metadata": {},
   "outputs": [],
   "source": [
    "df_language_age_convert=pd.DataFrame(language_age_convert.unstack(level=1))"
   ]
  },
  {
   "cell_type": "code",
   "execution_count": 61,
   "metadata": {},
   "outputs": [
    {
     "name": "stdout",
     "output_type": "stream",
     "text": [
      "age_group           0-18 years  19-24 years  24-30 years  30-36 years  \\\n",
      "language_preferred                                                      \n",
      "Arabic                     4.0          2.0          8.0          NaN   \n",
      "English                  168.0        281.0        201.0         69.0   \n",
      "German                    13.0         14.0         17.0          3.0   \n",
      "Spanish                    7.0          6.0          2.0          5.0   \n",
      "\n",
      "age_group           36-45 years  45-55 years  55+ years  \n",
      "language_preferred                                       \n",
      "Arabic                      1.0          3.0        1.0  \n",
      "English                    65.0         61.0       66.0  \n",
      "German                      4.0          6.0        2.0  \n",
      "Spanish                     4.0          5.0        7.0  \n"
     ]
    }
   ],
   "source": [
    "print(df_language_age_convert)"
   ]
  },
  {
   "cell_type": "code",
   "execution_count": 62,
   "metadata": {},
   "outputs": [
    {
     "data": {
      "text/plain": [
       "pandas.core.frame.DataFrame"
      ]
     },
     "execution_count": 62,
     "metadata": {},
     "output_type": "execute_result"
    }
   ],
   "source": [
    "type(df_language_age_convert)"
   ]
  },
  {
   "cell_type": "code",
   "execution_count": 63,
   "metadata": {},
   "outputs": [
    {
     "data": {
      "image/png": "[encoded data removed]",
      "text/plain": [
       "<Figure size 432x288 with 1 Axes>"
      ]
     },
     "metadata": {
      "needs_background": "light"
     },
     "output_type": "display_data"
    }
   ],
   "source": [
    "# plot\n",
    "df_language_age_convert.plot(kind='bar')\n",
    "\n",
    "# annotate\n",
    "plt.title('number of users by language and age')\n",
    "plt.xlabel('language')\n",
    "plt.ylabel('number of users')\n",
    "plt.show()"
   ]
  },
  {
   "cell_type": "markdown",
   "metadata": {},
   "source": [
    "#### Practice 4\n",
    "Looking at the number of **converted users** by these 2 segments are not very informative.\n",
    "\n",
    "Should we look at conversion rate by language and age?"
   ]
  },
  {
   "cell_type": "code",
   "execution_count": 64,
   "metadata": {},
   "outputs": [
    {
     "name": "stdout",
     "output_type": "stream",
     "text": [
      "language_preferred  age_group  \n",
      "Arabic              0-18 years       16\n",
      "                    19-24 years      18\n",
      "                    24-30 years      16\n",
      "                    30-36 years      12\n",
      "                    36-45 years      13\n",
      "                    45-55 years      14\n",
      "                    55+ years        17\n",
      "English             0-18 years     1124\n",
      "                    19-24 years    1215\n",
      "                    24-30 years    1119\n",
      "                    30-36 years     976\n",
      "                    36-45 years     991\n",
      "                    45-55 years     976\n",
      "                    55+ years       920\n",
      "German              0-18 years       24\n",
      "                    19-24 years      23\n",
      "                    24-30 years      29\n",
      "                    30-36 years      12\n",
      "                    36-45 years      14\n",
      "                    45-55 years      20\n",
      "                    55+ years         9\n",
      "Spanish             0-18 years       43\n",
      "                    19-24 years      51\n",
      "                    24-30 years      54\n",
      "                    30-36 years      57\n",
      "                    36-45 years      39\n",
      "                    45-55 years      47\n",
      "                    55+ years        34\n",
      "Name: user_id, dtype: int64\n"
     ]
    }
   ],
   "source": [
    "language_age = data.groupby(['language_preferred','age_group'])['user_id'].nunique()\n",
    "print(language_age)  # select group that organized by language and age"
   ]
  },
  {
   "cell_type": "code",
   "execution_count": 65,
   "metadata": {},
   "outputs": [
    {
     "name": "stdout",
     "output_type": "stream",
     "text": [
      "age_group           0-18 years  19-24 years  24-30 years  30-36 years  \\\n",
      "language_preferred                                                      \n",
      "Arabic                      16           18           16           12   \n",
      "English                   1124         1215         1119          976   \n",
      "German                      24           23           29           12   \n",
      "Spanish                     43           51           54           57   \n",
      "\n",
      "age_group           36-45 years  45-55 years  55+ years  \n",
      "language_preferred                                       \n",
      "Arabic                       13           14         17  \n",
      "English                     991          976        920  \n",
      "German                       14           20          9  \n",
      "Spanish                      39           47         34  \n"
     ]
    }
   ],
   "source": [
    "df_language_age= pd.DataFrame(language_age.unstack(level=1))\n",
    "print(df_language_age)"
   ]
  },
  {
   "cell_type": "code",
   "execution_count": 66,
   "metadata": {},
   "outputs": [
    {
     "data": {
      "text/html": [
       "<div>\n",
       "<style scoped>\n",
       "    .dataframe tbody tr th:only-of-type {\n",
       "        vertical-align: middle;\n",
       "    }\n",
       "\n",
       "    .dataframe tbody tr th {\n",
       "        vertical-align: top;\n",
       "    }\n",
       "\n",
       "    .dataframe thead th {\n",
       "        text-align: right;\n",
       "    }\n",
       "</style>\n",
       "<table border=\"1\" class=\"dataframe\">\n",
       "  <thead>\n",
       "    <tr style=\"text-align: right;\">\n",
       "      <th>age_group</th>\n",
       "      <th>0-18 years</th>\n",
       "      <th>19-24 years</th>\n",
       "      <th>24-30 years</th>\n",
       "      <th>30-36 years</th>\n",
       "      <th>36-45 years</th>\n",
       "      <th>45-55 years</th>\n",
       "      <th>55+ years</th>\n",
       "    </tr>\n",
       "    <tr>\n",
       "      <th>language_preferred</th>\n",
       "      <th></th>\n",
       "      <th></th>\n",
       "      <th></th>\n",
       "      <th></th>\n",
       "      <th></th>\n",
       "      <th></th>\n",
       "      <th></th>\n",
       "    </tr>\n",
       "  </thead>\n",
       "  <tbody>\n",
       "    <tr>\n",
       "      <th>Arabic</th>\n",
       "      <td>0.250000</td>\n",
       "      <td>0.111111</td>\n",
       "      <td>0.500000</td>\n",
       "      <td>NaN</td>\n",
       "      <td>0.076923</td>\n",
       "      <td>0.214286</td>\n",
       "      <td>0.058824</td>\n",
       "    </tr>\n",
       "    <tr>\n",
       "      <th>English</th>\n",
       "      <td>0.149466</td>\n",
       "      <td>0.231276</td>\n",
       "      <td>0.179625</td>\n",
       "      <td>0.070697</td>\n",
       "      <td>0.065590</td>\n",
       "      <td>0.062500</td>\n",
       "      <td>0.071739</td>\n",
       "    </tr>\n",
       "    <tr>\n",
       "      <th>German</th>\n",
       "      <td>0.541667</td>\n",
       "      <td>0.608696</td>\n",
       "      <td>0.586207</td>\n",
       "      <td>0.250000</td>\n",
       "      <td>0.285714</td>\n",
       "      <td>0.300000</td>\n",
       "      <td>0.222222</td>\n",
       "    </tr>\n",
       "    <tr>\n",
       "      <th>Spanish</th>\n",
       "      <td>0.162791</td>\n",
       "      <td>0.117647</td>\n",
       "      <td>0.037037</td>\n",
       "      <td>0.087719</td>\n",
       "      <td>0.102564</td>\n",
       "      <td>0.106383</td>\n",
       "      <td>0.205882</td>\n",
       "    </tr>\n",
       "  </tbody>\n",
       "</table>\n",
       "</div>"
      ],
      "text/plain": [
       "age_group           0-18 years  19-24 years  24-30 years  30-36 years  \\\n",
       "language_preferred                                                      \n",
       "Arabic                0.250000     0.111111     0.500000          NaN   \n",
       "English               0.149466     0.231276     0.179625     0.070697   \n",
       "German                0.541667     0.608696     0.586207     0.250000   \n",
       "Spanish               0.162791     0.117647     0.037037     0.087719   \n",
       "\n",
       "age_group           36-45 years  45-55 years  55+ years  \n",
       "language_preferred                                       \n",
       "Arabic                 0.076923     0.214286   0.058824  \n",
       "English                0.065590     0.062500   0.071739  \n",
       "German                 0.285714     0.300000   0.222222  \n",
       "Spanish                0.102564     0.106383   0.205882  "
      ]
     },
     "execution_count": 66,
     "metadata": {},
     "output_type": "execute_result"
    }
   ],
   "source": [
    "df_language_age_convt_rate=df_language_age_convert/df_language_age\n",
    "df_language_age_convt_rate"
   ]
  },
  {
   "cell_type": "markdown",
   "metadata": {},
   "source": [
    "### 3. A/B Testing\n",
    "\n",
    "What is A/B testing:\n",
    "\n",
    "- A/B testing, sometimes referred to as split testing, is the process of comparing two different marketing strategies to determine which one performs better\n",
    "- Testing allows us to understand marketing impact"
   ]
  },
  {
   "cell_type": "markdown",
   "metadata": {},
   "source": [
    "In a typical A/B testing setting, you would create and test two or more versions of marketing strategies for their effectiveness in achieving your marketing goal. Consider a case where your goal is to improve marketing email open rates. \n",
    "\n",
    "If your hypothesis is that email subject line B will result in higher open rates than email subject line A, then you would run an A/B test with these two subject lines. You will randomly select half of the users and send out marketing emails with subject line A. The other half of randomly selected users will receive emails with subject line B. You will run this test for a predetermined period of time (which could be one week, two weeks, or one month, for instance) or until a predetermined number of users receive the two versions of emails (which is a minimum of 1,000 users to receive each version of the subject line). Once your tests are complete, then you analyze and evaluate the experiment results. When analyzing the results, you will need to check whether there is a statistically significant difference between the results of the two versions."
   ]
  },
  {
   "cell_type": "code",
   "execution_count": 67,
   "metadata": {},
   "outputs": [],
   "source": [
    "from scipy import stats\n",
    "import numpy as np"
   ]
  },
  {
   "cell_type": "code",
   "execution_count": 68,
   "metadata": {},
   "outputs": [
    {
     "data": {
      "text/plain": [
       "control            5076\n",
       "personalization    4946\n",
       "Name: test_control, dtype: int64"
      ]
     },
     "execution_count": 68,
     "metadata": {},
     "output_type": "execute_result"
    }
   ],
   "source": [
    "data['test_control'].value_counts()    # use value_counts() to see unique values and their frequency."
   ]
  },
  {
   "cell_type": "code",
   "execution_count": 69,
   "metadata": {},
   "outputs": [
    {
     "data": {
      "text/plain": [
       "pandas.core.frame.DataFrame"
      ]
     },
     "execution_count": 69,
     "metadata": {},
     "output_type": "execute_result"
    }
   ],
   "source": [
    "# Let's only look at Email marketing channel   # .loc[] is primarily label based, but may also be used with a boolean array.\n",
    "email = data.loc[data['marketing_channel'] == 'Email']\n",
    "type(email)"
   ]
  },
  {
   "cell_type": "code",
   "execution_count": 70,
   "metadata": {},
   "outputs": [
    {
     "name": "stdout",
     "output_type": "stream",
     "text": [
      "          user_id date_served marketing_channel     test_control  converted  \\\n",
      "354    a100000526  2018-01-01             Email  personalization       True   \n",
      "358    a100000530  2018-01-05             Email  personalization       True   \n",
      "362    a100000534  2018-01-09             Email  personalization      False   \n",
      "366    a100000538  2018-01-13             Email  personalization       True   \n",
      "370    a100000542  2018-01-17             Email  personalization       True   \n",
      "...           ...         ...               ...              ...        ...   \n",
      "10015  a100007288  2018-01-17             Email          control       True   \n",
      "10016  a100007289  2018-01-17             Email          control       True   \n",
      "10017  a100007290  2018-01-17             Email          control       True   \n",
      "10018  a100007291  2018-01-17             Email          control       True   \n",
      "10020  a100007293  2018-01-17             Email          control       True   \n",
      "\n",
      "      language_preferred    age_group date_subscribed date_canceled  \\\n",
      "354               Arabic   0-18 years        1/1/2018           NaN   \n",
      "358               Arabic  19-24 years        1/5/2018           NaN   \n",
      "362              English  45-55 years        1/9/2018           NaN   \n",
      "366               Arabic  24-30 years       1/13/2018     1/23/2018   \n",
      "370              English   0-18 years       1/17/2018     2/12/2018   \n",
      "...                  ...          ...             ...           ...   \n",
      "10015             German  30-36 years       1/17/2018     4/26/2018   \n",
      "10016             German  36-45 years       1/17/2018     1/27/2018   \n",
      "10017             German  45-55 years       1/17/2018     1/24/2018   \n",
      "10018             German    55+ years       1/17/2018           NaN   \n",
      "10020             German   0-18 years       1/17/2018           NaN   \n",
      "\n",
      "      is_retained  \n",
      "354          True  \n",
      "358          True  \n",
      "362          True  \n",
      "366         False  \n",
      "370         False  \n",
      "...           ...  \n",
      "10015       False  \n",
      "10016       False  \n",
      "10017       False  \n",
      "10018        True  \n",
      "10020        True  \n",
      "\n",
      "[565 rows x 10 columns]\n"
     ]
    }
   ],
   "source": [
    "print(email)"
   ]
  },
  {
   "cell_type": "markdown",
   "metadata": {},
   "source": [
    "For email channel, there are the test groups which received personalization email and the control group which receive normal email"
   ]
  },
  {
   "cell_type": "code",
   "execution_count": 71,
   "metadata": {},
   "outputs": [
    {
     "data": {
      "text/plain": [
       "test_control\n",
       "control            270\n",
       "personalization    284\n",
       "Name: user_id, dtype: int64"
      ]
     },
     "execution_count": 71,
     "metadata": {},
     "output_type": "execute_result"
    }
   ],
   "source": [
    "email.groupby(['test_control'])['user_id'].nunique()"
   ]
  },
  {
   "cell_type": "code",
   "execution_count": 72,
   "metadata": {},
   "outputs": [
    {
     "data": {
      "text/plain": [
       "test_control\n",
       "control             76\n",
       "personalization    111\n",
       "Name: user_id, dtype: int64"
      ]
     },
     "execution_count": 72,
     "metadata": {},
     "output_type": "execute_result"
    }
   ],
   "source": [
    "# Let's compare the conversion rate between test and control group\n",
    "email.loc[email['converted']==True].groupby(['test_control'])['user_id'].nunique()\n",
    "# number of people who are converted in each group"
   ]
  },
  {
   "cell_type": "code",
   "execution_count": 73,
   "metadata": {},
   "outputs": [],
   "source": [
    "test_control_converted_rate = email.loc[email['converted']==True].groupby(['test_control'])['user_id'].nunique()\\\n",
    "/email.groupby(['test_control'])['user_id'].nunique()"
   ]
  },
  {
   "cell_type": "markdown",
   "metadata": {},
   "source": [
    "Calculate the lift:\n",
    "\n",
    "(Test conversion rate - Control conversion rate) / Control converstion rate"
   ]
  },
  {
   "cell_type": "code",
   "execution_count": 74,
   "metadata": {},
   "outputs": [],
   "source": [
    "lift = (0.390845 - 0.281481)/ 0.281481   # increased rate of test group "
   ]
  },
  {
   "cell_type": "code",
   "execution_count": 75,
   "metadata": {},
   "outputs": [
    {
     "name": "stdout",
     "output_type": "stream",
     "text": [
      "0.38853066459192637\n"
     ]
    }
   ],
   "source": [
    "print(lift)"
   ]
  }
 ],
 "metadata": {
  "kernelspec": {
   "display_name": "Python 3 (ipykernel)",
   "language": "python",
   "name": "python3"
  },
  "language_info": {
   "codemirror_mode": {
    "name": "ipython",
    "version": 3
   },
   "file_extension": ".py",
   "mimetype": "text/x-python",
   "name": "python",
   "nbconvert_exporter": "python",
   "pygments_lexer": "ipython3",
   "version": "3.9.12"
  }
 },
 "nbformat": 4,
 "nbformat_minor": 2
}
